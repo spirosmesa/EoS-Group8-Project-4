{
 "cells": [
  {
   "cell_type": "code",
   "execution_count": 3,
   "metadata": {},
   "outputs": [],
   "source": [
    "import matplotlib.pyplot as plt\n",
    "import pandas as pd\n",
    "import numpy as np\n",
    "\n",
    "items = pd.read_csv(r'./items.csv')\n",
    "feedbacks = pd.read_csv(r'./feedbacks.csv')\n",
    "feedbacks = feedbacks[feedbacks.isna().any(axis = 1)]\n",
    "feedbacks.marketplace.value_counts()\n",
    "\n",
    "items = items[items['title'].notna()]\n",
    "items = items[items['description'].notna()]\n",
    "items = items[~items['title'].str.contains('milligram')]\n",
    "items = items[~items['description'].str.contains('milligram')]\n",
    "items = items[~items['description'].str.contains('gram')]\n",
    "items = items[~items['title'].str.contains('gram')]\n",
    "items = items[~items['description'].str.contains('mg')]\n",
    "items = items[~items['title'].str.contains('mg')]\n",
    "items = items[~items['description'].str.contains('cocktail')]\n",
    "items = items[~items['title'].str.contains('cocktail')]\n",
    "items = items[~items['description'].str.contains('xtc')]\n",
    "items = items[~items['title'].str.contains('xtc')]\n",
    "items = items[~items['description'].str.contains('meth')]\n",
    "items = items[~items['title'].str.contains('meth')]\n",
    "items = items[~items['description'].str.contains('drug')]\n",
    "items = items[~items['title'].str.contains('drug')]"
   ]
  },
  {
   "cell_type": "markdown",
   "metadata": {},
   "source": [
    "# Checking the times of the marketplaces"
   ]
  },
  {
   "cell_type": "code",
   "execution_count": 4,
   "metadata": {},
   "outputs": [],
   "source": [
    "def normalize_feedback(marketplace, feedback_value):\n",
    "    #deltatime = int(feedbacks_time.loc[[marketplace]]['difference', ''])\n",
    "    #deltatime = feedbacks_time.loc[[marketplace]]['difference', ''].days\n",
    "    norm_value = feedback_value / deltatime * 365\n",
    "    return norm_value"
   ]
  },
  {
   "cell_type": "code",
   "execution_count": 5,
   "metadata": {},
   "outputs": [],
   "source": [
    "feedbacks['date']= pd.to_datetime(feedbacks['date']) \n",
    "feedbacks_time = feedbacks.groupby(['marketplace']).agg({'date': [np.min,np.max]})\n",
    "feedbacks_time['difference'] = feedbacks_time['date' ,'amax'] - feedbacks_time['date', 'amin']\n",
    "feedbacks = feedbacks[feedbacks.category != \"other\"]"
   ]
  },
  {
   "cell_type": "code",
   "execution_count": 24,
   "metadata": {},
   "outputs": [],
   "source": [
    "#feedbacks['norm_feedback_value'] = feedbacks.apply(lambda x: normalize_feedback(x['marketplace'], x['feedback_value']), axis = 1)\n",
    "#feedbacks['norm_order_value'] = feedbacks.apply(lambda x: normalize_order_value(x['marketplace'], x['order_amount_usd']), axis = 1)"
   ]
  },
  {
   "cell_type": "code",
   "execution_count": 6,
   "metadata": {
    "scrolled": true
   },
   "outputs": [],
   "source": [
    "feedbacks = feedbacks[feedbacks[\"category\"] == \"cash-out\"]\n",
    "feedbacks[\"year\"] = pd.DatetimeIndex(feedbacks[\"date\"]).year\n",
    "feedbacks[\"month\"] = pd.DatetimeIndex(feedbacks[\"date\"]).month"
   ]
  },
  {
   "cell_type": "code",
   "execution_count": 23,
   "metadata": {},
   "outputs": [],
   "source": [
    "\"\"\"per = feedbacks.date.dt.to_period(\"M\")\n",
    "g = feedbacks.groupby(per)\n",
    "g.sum()\"\"\"\n",
    "\n",
    "#order_amounts_total = feedbacks.groupby([\"year\", \"marketplace\"]).order_amount_usd.sum().unstack().fillna(value = 0)"
   ]
  },
  {
   "cell_type": "code",
   "execution_count": 7,
   "metadata": {},
   "outputs": [],
   "source": [
    "order_amounts_total = feedbacks.groupby([\"month\", \"marketplace\"]).order_amount_usd.sum().unstack().fillna(value = 0)"
   ]
  },
  {
   "cell_type": "code",
   "execution_count": 8,
   "metadata": {},
   "outputs": [
    {
     "data": {
      "text/plain": [
       "Index(['Alphabay', 'Black Market Reloaded', 'Evolution', 'Silk Road 1'], dtype='object', name='marketplace')"
      ]
     },
     "execution_count": 8,
     "metadata": {},
     "output_type": "execute_result"
    }
   ],
   "source": [
    "order_amounts_total.columns"
   ]
  },
  {
   "cell_type": "code",
   "execution_count": 10,
   "metadata": {},
   "outputs": [],
   "source": [
    "x = list(order_amounts_total.index.values)\n",
    "y1 = list(order_amounts_total.Alphabay)\n",
    "y2 = list(order_amounts_total[\"Black Market Reloaded\"])\n",
    "y3 = list(order_amounts_total.Evolution)\n",
    "y4 = list(order_amounts_total[\"Silk Road 1\"])"
   ]
  },
  {
   "cell_type": "code",
   "execution_count": null,
   "metadata": {},
   "outputs": [],
   "source": [
    "plt.stackplot(x,y1, y2, y3, y4, labels=['Alphabay','Black Market Reloaded', \"Evolution\", \"Silk Road 1\"])\n",
    "plt.title(\"Total order amount\")\n",
    "plt.xlabel(\"Year\")\n",
    "plt.ylabel(\"Usd\")\n",
    "plt.legend(loc = 'upper right', bbox_to_anchor=(1.5, 1.05))"
   ]
  }
 ],
 "metadata": {
  "kernelspec": {
   "display_name": "Python 3",
   "language": "python",
   "name": "python3"
  },
  "language_info": {
   "codemirror_mode": {
    "name": "ipython",
    "version": 3
   },
   "file_extension": ".py",
   "mimetype": "text/x-python",
   "name": "python",
   "nbconvert_exporter": "python",
   "pygments_lexer": "ipython3",
   "version": "3.8.3"
  }
 },
 "nbformat": 4,
 "nbformat_minor": 4
}
