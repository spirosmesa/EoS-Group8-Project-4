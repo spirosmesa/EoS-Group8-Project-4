{
 "cells": [
  {
   "cell_type": "code",
   "execution_count": 87,
   "metadata": {},
   "outputs": [],
   "source": [
    "import matplotlib.pyplot as plt\n",
    "import pandas as pd\n",
    "import numpy as np\n",
    "import datetime"
   ]
  },
  {
   "cell_type": "markdown",
   "metadata": {},
   "source": [
    "# Data loading"
   ]
  },
  {
   "cell_type": "code",
   "execution_count": 2,
   "metadata": {},
   "outputs": [],
   "source": [
    "items = pd.read_csv(r'./items.csv')\n",
    "items2 = pd.read_csv(r'./items2.csv')"
   ]
  },
  {
   "cell_type": "code",
   "execution_count": 3,
   "metadata": {},
   "outputs": [],
   "source": [
    "feedbacks = pd.read_csv(r'./feedbacks.csv')"
   ]
  },
  {
   "cell_type": "markdown",
   "metadata": {},
   "source": [
    "# Data preparation"
   ]
  },
  {
   "cell_type": "code",
   "execution_count": 17,
   "metadata": {},
   "outputs": [
    {
     "data": {
      "text/plain": [
       "hash_str                  0\n",
       "category                  0\n",
       "marketplace               0\n",
       "item_hash                 0\n",
       "date                      0\n",
       "giver_hash                0\n",
       "receiver_hash             0\n",
       "message                8193\n",
       "order_title              11\n",
       "feedback_value            0\n",
       "order_amount_usd          0\n",
       "norm_feedback_value       0\n",
       "norm_order_value          0\n",
       "dtype: int64"
      ]
     },
     "execution_count": 17,
     "metadata": {},
     "output_type": "execute_result"
    }
   ],
   "source": [
    "feedbacks.isna().sum()"
   ]
  },
  {
   "cell_type": "markdown",
   "metadata": {},
   "source": [
    "There are around 8200 feedbacks with NaN values. Mostly in the message field. Since this is not important for our analysis we do not drop these rows."
   ]
  },
  {
   "cell_type": "code",
   "execution_count": 18,
   "metadata": {},
   "outputs": [
    {
     "data": {
      "text/plain": [
       "Alphabay                 288485\n",
       "Evolution                128840\n",
       "Silk Road 1               52564\n",
       "Silk Road 2               50611\n",
       "Agora                     22539\n",
       "Black Market Reloaded      8379\n",
       "Pandora                    7910\n",
       "Hydra                      4876\n",
       "Name: marketplace, dtype: int64"
      ]
     },
     "execution_count": 18,
     "metadata": {},
     "output_type": "execute_result"
    }
   ],
   "source": [
    "feedbacks.marketplace.value_counts()"
   ]
  },
  {
   "cell_type": "code",
   "execution_count": 19,
   "metadata": {},
   "outputs": [
    {
     "data": {
      "text/plain": [
       "cash-out                                     237166\n",
       "other                                         84081\n",
       "other - account                               75503\n",
       "other - guide                                 57385\n",
       "other - fake                                  34438\n",
       "other - voucher/invite/codes/lottery/gift     22777\n",
       "other - custom                                18760\n",
       "other - pirated software                      11244\n",
       "website                                        8600\n",
       "e-mail                                         4702\n",
       "phone                                          2734\n",
       "malware                                        2446\n",
       "exploits                                       1337\n",
       "app                                            1175\n",
       "botnet                                          968\n",
       "RAT                                             768\n",
       "hosting                                         120\n",
       "Name: category, dtype: int64"
      ]
     },
     "execution_count": 19,
     "metadata": {},
     "output_type": "execute_result"
    }
   ],
   "source": [
    "feedbacks.category.value_counts()"
   ]
  },
  {
   "cell_type": "code",
   "execution_count": 20,
   "metadata": {},
   "outputs": [
    {
     "data": {
      "text/plain": [
       "item_hash             0\n",
       "category              0\n",
       "marketplace           0\n",
       "title                 2\n",
       "vendor_hash           0\n",
       "total_sales           0\n",
       "first_observed        0\n",
       "last_observed         0\n",
       "ships_to          11532\n",
       "ships_from         1164\n",
       "description        9204\n",
       "dtype: int64"
      ]
     },
     "execution_count": 20,
     "metadata": {},
     "output_type": "execute_result"
    }
   ],
   "source": [
    "items.isna().sum()"
   ]
  },
  {
   "cell_type": "markdown",
   "metadata": {},
   "source": [
    "Since we are going to take out the entries that are talking about drugs. We are going to remove all titles and descriptions that contain NaN values."
   ]
  },
  {
   "cell_type": "code",
   "execution_count": 21,
   "metadata": {},
   "outputs": [],
   "source": [
    "items2 = items[items['title'].notna()]\n",
    "items2 = items2[items2['description'].notna()]"
   ]
  },
  {
   "cell_type": "code",
   "execution_count": 22,
   "metadata": {},
   "outputs": [
    {
     "data": {
      "text/plain": [
       "item_hash            0\n",
       "category             0\n",
       "marketplace          0\n",
       "title                0\n",
       "vendor_hash          0\n",
       "total_sales          0\n",
       "first_observed       0\n",
       "last_observed        0\n",
       "ships_to          2511\n",
       "ships_from        1163\n",
       "description          0\n",
       "dtype: int64"
      ]
     },
     "execution_count": 22,
     "metadata": {},
     "output_type": "execute_result"
    }
   ],
   "source": [
    "items2.isna().sum()"
   ]
  },
  {
   "cell_type": "markdown",
   "metadata": {},
   "source": [
    "We are first going to look at all rows that contain milligram in the title or description, considering this is about a real life product."
   ]
  },
  {
   "cell_type": "code",
   "execution_count": 23,
   "metadata": {},
   "outputs": [
    {
     "name": "stdout",
     "output_type": "stream",
     "text": [
      "False    35370\n",
      "True         3\n",
      "Name: title, dtype: int64\n",
      "False    35342\n",
      "True        31\n",
      "Name: description, dtype: int64\n"
     ]
    }
   ],
   "source": [
    "print(items2['title'].str.contains('milligram').value_counts())\n",
    "print(items2['description'].str.contains('milligram').value_counts())"
   ]
  },
  {
   "cell_type": "markdown",
   "metadata": {},
   "source": [
    "There are 3 entries which contain milligram in the title. There are 31 which contain it in the description."
   ]
  },
  {
   "cell_type": "code",
   "execution_count": 24,
   "metadata": {},
   "outputs": [],
   "source": [
    "items3 = items2[~items2['title'].str.contains('milligram')]"
   ]
  },
  {
   "cell_type": "code",
   "execution_count": 25,
   "metadata": {},
   "outputs": [],
   "source": [
    "items4 = items3[~items3['description'].str.contains('milligram')]"
   ]
  },
  {
   "cell_type": "markdown",
   "metadata": {},
   "source": [
    "Also the ones that contain 'gram' in the name will be removed."
   ]
  },
  {
   "cell_type": "code",
   "execution_count": 26,
   "metadata": {},
   "outputs": [
    {
     "name": "stdout",
     "output_type": "stream",
     "text": [
      "False    35026\n",
      "True       347\n",
      "Name: title, dtype: int64\n",
      "False    32441\n",
      "True      2932\n",
      "Name: description, dtype: int64\n"
     ]
    }
   ],
   "source": [
    "print(items2['title'].str.contains('gram').value_counts())\n",
    "print(items2['description'].str.contains('gram').value_counts())"
   ]
  },
  {
   "cell_type": "code",
   "execution_count": 27,
   "metadata": {},
   "outputs": [],
   "source": [
    "items4 = items4[~items4['description'].str.contains('gram')]\n",
    "items4 = items4[~items4['title'].str.contains('gram')]"
   ]
  },
  {
   "cell_type": "code",
   "execution_count": 28,
   "metadata": {},
   "outputs": [
    {
     "name": "stdout",
     "output_type": "stream",
     "text": [
      "False    34739\n",
      "True       634\n",
      "Name: title, dtype: int64\n",
      "False    33353\n",
      "True      2020\n",
      "Name: description, dtype: int64\n"
     ]
    }
   ],
   "source": [
    "print(items2['title'].str.contains('mg').value_counts())\n",
    "print(items2['description'].str.contains('mg').value_counts())"
   ]
  },
  {
   "cell_type": "code",
   "execution_count": 29,
   "metadata": {},
   "outputs": [],
   "source": [
    "items4 = items4[~items4['description'].str.contains('mg')]\n",
    "items4 = items4[~items4['title'].str.contains('mg')]"
   ]
  },
  {
   "cell_type": "code",
   "execution_count": 30,
   "metadata": {},
   "outputs": [],
   "source": [
    "items4 = items4[~items4['description'].str.contains('cocktail')]\n",
    "items4 = items4[~items4['title'].str.contains('cocktail')]"
   ]
  },
  {
   "cell_type": "code",
   "execution_count": 31,
   "metadata": {},
   "outputs": [
    {
     "name": "stdout",
     "output_type": "stream",
     "text": [
      "False    35304\n",
      "True        69\n",
      "Name: title, dtype: int64\n",
      "False    34414\n",
      "True       959\n",
      "Name: description, dtype: int64\n"
     ]
    }
   ],
   "source": [
    "print(items2['title'].str.contains('drug').value_counts())\n",
    "print(items2['description'].str.contains('drug').value_counts())"
   ]
  },
  {
   "cell_type": "code",
   "execution_count": 32,
   "metadata": {},
   "outputs": [],
   "source": [
    "items4 = items4[~items4['description'].str.contains('meth')]\n",
    "items4 = items4[~items4['title'].str.contains('meth')]"
   ]
  },
  {
   "cell_type": "code",
   "execution_count": 33,
   "metadata": {},
   "outputs": [],
   "source": [
    "items4 = items4[~items4['description'].str.contains('xtc')]\n",
    "items4 = items4[~items4['title'].str.contains('xtc')]"
   ]
  },
  {
   "cell_type": "code",
   "execution_count": 34,
   "metadata": {},
   "outputs": [],
   "source": [
    "items4 = items4[~items4['description'].str.contains('drug')]\n",
    "items4 = items4[~items4['title'].str.contains('drug')]"
   ]
  },
  {
   "cell_type": "code",
   "execution_count": 35,
   "metadata": {},
   "outputs": [
    {
     "data": {
      "text/html": [
       "<div>\n",
       "<style scoped>\n",
       "    .dataframe tbody tr th:only-of-type {\n",
       "        vertical-align: middle;\n",
       "    }\n",
       "\n",
       "    .dataframe tbody tr th {\n",
       "        vertical-align: top;\n",
       "    }\n",
       "\n",
       "    .dataframe thead th {\n",
       "        text-align: right;\n",
       "    }\n",
       "</style>\n",
       "<table border=\"1\" class=\"dataframe\">\n",
       "  <thead>\n",
       "    <tr style=\"text-align: right;\">\n",
       "      <th></th>\n",
       "      <th>item_hash</th>\n",
       "      <th>category</th>\n",
       "      <th>marketplace</th>\n",
       "      <th>title</th>\n",
       "      <th>vendor_hash</th>\n",
       "      <th>total_sales</th>\n",
       "      <th>first_observed</th>\n",
       "      <th>last_observed</th>\n",
       "      <th>ships_to</th>\n",
       "      <th>ships_from</th>\n",
       "      <th>description</th>\n",
       "    </tr>\n",
       "  </thead>\n",
       "  <tbody>\n",
       "    <tr>\n",
       "      <th>44565</th>\n",
       "      <td>fff3acae7c4256deb992089469f3d595</td>\n",
       "      <td>other</td>\n",
       "      <td>Alphabay</td>\n",
       "      <td>NCR SELFSERV PIN PAD STP FILES</td>\n",
       "      <td>d4c3359eb348131f152afee016a597b4</td>\n",
       "      <td>36.12</td>\n",
       "      <td>2015-09-28</td>\n",
       "      <td>2017-04-12</td>\n",
       "      <td>Worldwide</td>\n",
       "      <td>Worldwide</td>\n",
       "      <td>AS the title says full ncr package ncr pin pad...</td>\n",
       "    </tr>\n",
       "    <tr>\n",
       "      <th>44566</th>\n",
       "      <td>fff547e77192ab800f29922561fd97ab</td>\n",
       "      <td>other - fake</td>\n",
       "      <td>Alphabay</td>\n",
       "      <td>Australian ID Scans - Passport</td>\n",
       "      <td>43af7b4e019364fee5295091cdbd44dd</td>\n",
       "      <td>189.23</td>\n",
       "      <td>2016-09-20</td>\n",
       "      <td>2017-01-03</td>\n",
       "      <td>Worldwide</td>\n",
       "      <td>Australia</td>\n",
       "      <td>Buy this listing and you will receive a link t...</td>\n",
       "    </tr>\n",
       "    <tr>\n",
       "      <th>44568</th>\n",
       "      <td>fff869121937fdc6bb2f3389f537795f</td>\n",
       "      <td>other - custom</td>\n",
       "      <td>Silk Road 2</td>\n",
       "      <td>custom-doolz</td>\n",
       "      <td>66bae735d8fcb7b37b6d377566e6399d</td>\n",
       "      <td>899.69</td>\n",
       "      <td>2014-04-16</td>\n",
       "      <td>2014-04-16</td>\n",
       "      <td>Australia</td>\n",
       "      <td>Australia</td>\n",
       "      <td>11 vails</td>\n",
       "    </tr>\n",
       "    <tr>\n",
       "      <th>44571</th>\n",
       "      <td>fffad0cfa5bb7ce6f2a1ca2638361f72</td>\n",
       "      <td>cash-out</td>\n",
       "      <td>Pandora</td>\n",
       "      <td>VISA US PACK  :  3 CLASSIC  CC + 2 PLATINIUM CC</td>\n",
       "      <td>76d4bea7d66a1fb757b978f8e7385dd4</td>\n",
       "      <td>90.20</td>\n",
       "      <td>2014-04-22</td>\n",
       "      <td>2014-04-22</td>\n",
       "      <td>Worldwide</td>\n",
       "      <td>United States</td>\n",
       "      <td>HIGH QUALITY US CC'S.\\r\\n\\r\\n3 US CLASSIC VISA...</td>\n",
       "    </tr>\n",
       "    <tr>\n",
       "      <th>44574</th>\n",
       "      <td>fffbefcbc5f9ba77768accef3f1f676a</td>\n",
       "      <td>other</td>\n",
       "      <td>Alphabay</td>\n",
       "      <td>a customer listing for bg</td>\n",
       "      <td>2e6c66675750bf70dd4c77014685872b</td>\n",
       "      <td>150.00</td>\n",
       "      <td>2016-01-04</td>\n",
       "      <td>2016-01-04</td>\n",
       "      <td>Worldwide</td>\n",
       "      <td>Worldwide</td>\n",
       "      <td>Cartier 18k love Bangles 750 titanium steel Re...</td>\n",
       "    </tr>\n",
       "  </tbody>\n",
       "</table>\n",
       "</div>"
      ],
      "text/plain": [
       "                              item_hash        category  marketplace  \\\n",
       "44565  fff3acae7c4256deb992089469f3d595           other     Alphabay   \n",
       "44566  fff547e77192ab800f29922561fd97ab    other - fake     Alphabay   \n",
       "44568  fff869121937fdc6bb2f3389f537795f  other - custom  Silk Road 2   \n",
       "44571  fffad0cfa5bb7ce6f2a1ca2638361f72        cash-out      Pandora   \n",
       "44574  fffbefcbc5f9ba77768accef3f1f676a           other     Alphabay   \n",
       "\n",
       "                                                 title  \\\n",
       "44565                   NCR SELFSERV PIN PAD STP FILES   \n",
       "44566                   Australian ID Scans - Passport   \n",
       "44568                                     custom-doolz   \n",
       "44571  VISA US PACK  :  3 CLASSIC  CC + 2 PLATINIUM CC   \n",
       "44574                        a customer listing for bg   \n",
       "\n",
       "                            vendor_hash  total_sales first_observed  \\\n",
       "44565  d4c3359eb348131f152afee016a597b4        36.12     2015-09-28   \n",
       "44566  43af7b4e019364fee5295091cdbd44dd       189.23     2016-09-20   \n",
       "44568  66bae735d8fcb7b37b6d377566e6399d       899.69     2014-04-16   \n",
       "44571  76d4bea7d66a1fb757b978f8e7385dd4        90.20     2014-04-22   \n",
       "44574  2e6c66675750bf70dd4c77014685872b       150.00     2016-01-04   \n",
       "\n",
       "      last_observed   ships_to     ships_from  \\\n",
       "44565    2017-04-12  Worldwide      Worldwide   \n",
       "44566    2017-01-03  Worldwide      Australia   \n",
       "44568    2014-04-16  Australia      Australia   \n",
       "44571    2014-04-22  Worldwide  United States   \n",
       "44574    2016-01-04  Worldwide      Worldwide   \n",
       "\n",
       "                                             description  \n",
       "44565  AS the title says full ncr package ncr pin pad...  \n",
       "44566  Buy this listing and you will receive a link t...  \n",
       "44568                                           11 vails  \n",
       "44571  HIGH QUALITY US CC'S.\\r\\n\\r\\n3 US CLASSIC VISA...  \n",
       "44574  Cartier 18k love Bangles 750 titanium steel Re...  "
      ]
     },
     "execution_count": 35,
     "metadata": {},
     "output_type": "execute_result"
    }
   ],
   "source": [
    "items4.tail()"
   ]
  },
  {
   "cell_type": "markdown",
   "metadata": {},
   "source": [
    "We have tried to in this way remove as much drugs from the dataset as possible.\n",
    "(I did see that this does not remove all offline things as apparently also pin pads etc are sold... Should we also remove these from there?)"
   ]
  },
  {
   "cell_type": "markdown",
   "metadata": {},
   "source": [
    "# Checking the times of the marketplaces"
   ]
  },
  {
   "cell_type": "code",
   "execution_count": 37,
   "metadata": {},
   "outputs": [
    {
     "data": {
      "text/plain": [
       "date  amin    8\n",
       "      amax    8\n",
       "dtype: int64"
      ]
     },
     "execution_count": 37,
     "metadata": {},
     "output_type": "execute_result"
    }
   ],
   "source": [
    "feedbacks.groupby('marketplace').agg({'date' : [np.min, np.max]}).count()"
   ]
  },
  {
   "cell_type": "code",
   "execution_count": 38,
   "metadata": {},
   "outputs": [
    {
     "data": {
      "text/html": [
       "<div>\n",
       "<style scoped>\n",
       "    .dataframe tbody tr th:only-of-type {\n",
       "        vertical-align: middle;\n",
       "    }\n",
       "\n",
       "    .dataframe tbody tr th {\n",
       "        vertical-align: top;\n",
       "    }\n",
       "\n",
       "    .dataframe thead th {\n",
       "        text-align: right;\n",
       "    }\n",
       "</style>\n",
       "<table border=\"1\" class=\"dataframe\">\n",
       "  <thead>\n",
       "    <tr style=\"text-align: right;\">\n",
       "      <th></th>\n",
       "      <th></th>\n",
       "      <th>hash_str</th>\n",
       "      <th>item_hash</th>\n",
       "      <th>date</th>\n",
       "      <th>giver_hash</th>\n",
       "      <th>receiver_hash</th>\n",
       "      <th>message</th>\n",
       "      <th>order_title</th>\n",
       "      <th>feedback_value</th>\n",
       "      <th>order_amount_usd</th>\n",
       "      <th>norm_feedback_value</th>\n",
       "      <th>norm_order_value</th>\n",
       "    </tr>\n",
       "    <tr>\n",
       "      <th>marketplace</th>\n",
       "      <th>category</th>\n",
       "      <th></th>\n",
       "      <th></th>\n",
       "      <th></th>\n",
       "      <th></th>\n",
       "      <th></th>\n",
       "      <th></th>\n",
       "      <th></th>\n",
       "      <th></th>\n",
       "      <th></th>\n",
       "      <th></th>\n",
       "      <th></th>\n",
       "    </tr>\n",
       "  </thead>\n",
       "  <tbody>\n",
       "    <tr>\n",
       "      <th rowspan=\"5\" valign=\"top\">Agora</th>\n",
       "      <th>RAT</th>\n",
       "      <td>6</td>\n",
       "      <td>6</td>\n",
       "      <td>6</td>\n",
       "      <td>6</td>\n",
       "      <td>6</td>\n",
       "      <td>6</td>\n",
       "      <td>6</td>\n",
       "      <td>6</td>\n",
       "      <td>6</td>\n",
       "      <td>6</td>\n",
       "      <td>6</td>\n",
       "    </tr>\n",
       "    <tr>\n",
       "      <th>app</th>\n",
       "      <td>35</td>\n",
       "      <td>35</td>\n",
       "      <td>35</td>\n",
       "      <td>35</td>\n",
       "      <td>35</td>\n",
       "      <td>35</td>\n",
       "      <td>35</td>\n",
       "      <td>35</td>\n",
       "      <td>35</td>\n",
       "      <td>35</td>\n",
       "      <td>35</td>\n",
       "    </tr>\n",
       "    <tr>\n",
       "      <th>botnet</th>\n",
       "      <td>83</td>\n",
       "      <td>83</td>\n",
       "      <td>83</td>\n",
       "      <td>83</td>\n",
       "      <td>83</td>\n",
       "      <td>83</td>\n",
       "      <td>83</td>\n",
       "      <td>83</td>\n",
       "      <td>83</td>\n",
       "      <td>83</td>\n",
       "      <td>83</td>\n",
       "    </tr>\n",
       "    <tr>\n",
       "      <th>cash-out</th>\n",
       "      <td>6626</td>\n",
       "      <td>6626</td>\n",
       "      <td>6626</td>\n",
       "      <td>6626</td>\n",
       "      <td>6626</td>\n",
       "      <td>6626</td>\n",
       "      <td>6626</td>\n",
       "      <td>6626</td>\n",
       "      <td>6626</td>\n",
       "      <td>6626</td>\n",
       "      <td>6626</td>\n",
       "    </tr>\n",
       "    <tr>\n",
       "      <th>e-mail</th>\n",
       "      <td>20</td>\n",
       "      <td>20</td>\n",
       "      <td>20</td>\n",
       "      <td>20</td>\n",
       "      <td>20</td>\n",
       "      <td>20</td>\n",
       "      <td>20</td>\n",
       "      <td>20</td>\n",
       "      <td>20</td>\n",
       "      <td>20</td>\n",
       "      <td>20</td>\n",
       "    </tr>\n",
       "    <tr>\n",
       "      <th>...</th>\n",
       "      <th>...</th>\n",
       "      <td>...</td>\n",
       "      <td>...</td>\n",
       "      <td>...</td>\n",
       "      <td>...</td>\n",
       "      <td>...</td>\n",
       "      <td>...</td>\n",
       "      <td>...</td>\n",
       "      <td>...</td>\n",
       "      <td>...</td>\n",
       "      <td>...</td>\n",
       "      <td>...</td>\n",
       "    </tr>\n",
       "    <tr>\n",
       "      <th rowspan=\"5\" valign=\"top\">Silk Road 2</th>\n",
       "      <th>other - guide</th>\n",
       "      <td>19535</td>\n",
       "      <td>19535</td>\n",
       "      <td>19535</td>\n",
       "      <td>19535</td>\n",
       "      <td>19535</td>\n",
       "      <td>19535</td>\n",
       "      <td>19535</td>\n",
       "      <td>19535</td>\n",
       "      <td>19535</td>\n",
       "      <td>19535</td>\n",
       "      <td>19535</td>\n",
       "    </tr>\n",
       "    <tr>\n",
       "      <th>other - pirated software</th>\n",
       "      <td>274</td>\n",
       "      <td>274</td>\n",
       "      <td>274</td>\n",
       "      <td>274</td>\n",
       "      <td>274</td>\n",
       "      <td>274</td>\n",
       "      <td>274</td>\n",
       "      <td>274</td>\n",
       "      <td>274</td>\n",
       "      <td>274</td>\n",
       "      <td>274</td>\n",
       "    </tr>\n",
       "    <tr>\n",
       "      <th>other - voucher/invite/codes/lottery/gift</th>\n",
       "      <td>2524</td>\n",
       "      <td>2524</td>\n",
       "      <td>2524</td>\n",
       "      <td>2524</td>\n",
       "      <td>2524</td>\n",
       "      <td>2524</td>\n",
       "      <td>2524</td>\n",
       "      <td>2524</td>\n",
       "      <td>2524</td>\n",
       "      <td>2524</td>\n",
       "      <td>2524</td>\n",
       "    </tr>\n",
       "    <tr>\n",
       "      <th>phone</th>\n",
       "      <td>200</td>\n",
       "      <td>200</td>\n",
       "      <td>200</td>\n",
       "      <td>200</td>\n",
       "      <td>200</td>\n",
       "      <td>200</td>\n",
       "      <td>200</td>\n",
       "      <td>200</td>\n",
       "      <td>200</td>\n",
       "      <td>200</td>\n",
       "      <td>200</td>\n",
       "    </tr>\n",
       "    <tr>\n",
       "      <th>website</th>\n",
       "      <td>76</td>\n",
       "      <td>76</td>\n",
       "      <td>76</td>\n",
       "      <td>76</td>\n",
       "      <td>76</td>\n",
       "      <td>76</td>\n",
       "      <td>76</td>\n",
       "      <td>76</td>\n",
       "      <td>76</td>\n",
       "      <td>76</td>\n",
       "      <td>76</td>\n",
       "    </tr>\n",
       "  </tbody>\n",
       "</table>\n",
       "<p>129 rows × 11 columns</p>\n",
       "</div>"
      ],
      "text/plain": [
       "                                                       hash_str  item_hash  \\\n",
       "marketplace category                                                         \n",
       "Agora       RAT                                               6          6   \n",
       "            app                                              35         35   \n",
       "            botnet                                           83         83   \n",
       "            cash-out                                       6626       6626   \n",
       "            e-mail                                           20         20   \n",
       "...                                                         ...        ...   \n",
       "Silk Road 2 other - guide                                 19535      19535   \n",
       "            other - pirated software                        274        274   \n",
       "            other - voucher/invite/codes/lottery/gift      2524       2524   \n",
       "            phone                                           200        200   \n",
       "            website                                          76         76   \n",
       "\n",
       "                                                        date  giver_hash  \\\n",
       "marketplace category                                                       \n",
       "Agora       RAT                                            6           6   \n",
       "            app                                           35          35   \n",
       "            botnet                                        83          83   \n",
       "            cash-out                                    6626        6626   \n",
       "            e-mail                                        20          20   \n",
       "...                                                      ...         ...   \n",
       "Silk Road 2 other - guide                              19535       19535   \n",
       "            other - pirated software                     274         274   \n",
       "            other - voucher/invite/codes/lottery/gift   2524        2524   \n",
       "            phone                                        200         200   \n",
       "            website                                       76          76   \n",
       "\n",
       "                                                       receiver_hash  message  \\\n",
       "marketplace category                                                            \n",
       "Agora       RAT                                                    6        6   \n",
       "            app                                                   35       35   \n",
       "            botnet                                                83       83   \n",
       "            cash-out                                            6626     6626   \n",
       "            e-mail                                                20       20   \n",
       "...                                                              ...      ...   \n",
       "Silk Road 2 other - guide                                      19535    19535   \n",
       "            other - pirated software                             274      274   \n",
       "            other - voucher/invite/codes/lottery/gift           2524     2524   \n",
       "            phone                                                200      200   \n",
       "            website                                               76       76   \n",
       "\n",
       "                                                       order_title  \\\n",
       "marketplace category                                                 \n",
       "Agora       RAT                                                  6   \n",
       "            app                                                 35   \n",
       "            botnet                                              83   \n",
       "            cash-out                                          6626   \n",
       "            e-mail                                              20   \n",
       "...                                                            ...   \n",
       "Silk Road 2 other - guide                                    19535   \n",
       "            other - pirated software                           274   \n",
       "            other - voucher/invite/codes/lottery/gift         2524   \n",
       "            phone                                              200   \n",
       "            website                                             76   \n",
       "\n",
       "                                                       feedback_value  \\\n",
       "marketplace category                                                    \n",
       "Agora       RAT                                                     6   \n",
       "            app                                                    35   \n",
       "            botnet                                                 83   \n",
       "            cash-out                                             6626   \n",
       "            e-mail                                                 20   \n",
       "...                                                               ...   \n",
       "Silk Road 2 other - guide                                       19535   \n",
       "            other - pirated software                              274   \n",
       "            other - voucher/invite/codes/lottery/gift            2524   \n",
       "            phone                                                 200   \n",
       "            website                                                76   \n",
       "\n",
       "                                                       order_amount_usd  \\\n",
       "marketplace category                                                      \n",
       "Agora       RAT                                                       6   \n",
       "            app                                                      35   \n",
       "            botnet                                                   83   \n",
       "            cash-out                                               6626   \n",
       "            e-mail                                                   20   \n",
       "...                                                                 ...   \n",
       "Silk Road 2 other - guide                                         19535   \n",
       "            other - pirated software                                274   \n",
       "            other - voucher/invite/codes/lottery/gift              2524   \n",
       "            phone                                                   200   \n",
       "            website                                                  76   \n",
       "\n",
       "                                                       norm_feedback_value  \\\n",
       "marketplace category                                                         \n",
       "Agora       RAT                                                          6   \n",
       "            app                                                         35   \n",
       "            botnet                                                      83   \n",
       "            cash-out                                                  6626   \n",
       "            e-mail                                                      20   \n",
       "...                                                                    ...   \n",
       "Silk Road 2 other - guide                                            19535   \n",
       "            other - pirated software                                   274   \n",
       "            other - voucher/invite/codes/lottery/gift                 2524   \n",
       "            phone                                                      200   \n",
       "            website                                                     76   \n",
       "\n",
       "                                                       norm_order_value  \n",
       "marketplace category                                                     \n",
       "Agora       RAT                                                       6  \n",
       "            app                                                      35  \n",
       "            botnet                                                   83  \n",
       "            cash-out                                               6626  \n",
       "            e-mail                                                   20  \n",
       "...                                                                 ...  \n",
       "Silk Road 2 other - guide                                         19535  \n",
       "            other - pirated software                                274  \n",
       "            other - voucher/invite/codes/lottery/gift              2524  \n",
       "            phone                                                   200  \n",
       "            website                                                  76  \n",
       "\n",
       "[129 rows x 11 columns]"
      ]
     },
     "execution_count": 38,
     "metadata": {},
     "output_type": "execute_result"
    }
   ],
   "source": [
    "feedbacks.groupby(by = ['marketplace', 'category']).count()"
   ]
  },
  {
   "cell_type": "markdown",
   "metadata": {},
   "source": [
    "Since we want to look at the marketplaces over a specific time we are going to identify what the first time and what the last time was that the date was observed."
   ]
  },
  {
   "cell_type": "code",
   "execution_count": 39,
   "metadata": {},
   "outputs": [],
   "source": [
    "feedbacks['date']= pd.to_datetime(feedbacks['date']) "
   ]
  },
  {
   "cell_type": "code",
   "execution_count": 40,
   "metadata": {},
   "outputs": [
    {
     "data": {
      "text/html": [
       "<div>\n",
       "<style scoped>\n",
       "    .dataframe tbody tr th:only-of-type {\n",
       "        vertical-align: middle;\n",
       "    }\n",
       "\n",
       "    .dataframe tbody tr th {\n",
       "        vertical-align: top;\n",
       "    }\n",
       "\n",
       "    .dataframe thead tr th {\n",
       "        text-align: left;\n",
       "    }\n",
       "\n",
       "    .dataframe thead tr:last-of-type th {\n",
       "        text-align: right;\n",
       "    }\n",
       "</style>\n",
       "<table border=\"1\" class=\"dataframe\">\n",
       "  <thead>\n",
       "    <tr>\n",
       "      <th></th>\n",
       "      <th colspan=\"2\" halign=\"left\">date</th>\n",
       "    </tr>\n",
       "    <tr>\n",
       "      <th></th>\n",
       "      <th>amin</th>\n",
       "      <th>amax</th>\n",
       "    </tr>\n",
       "    <tr>\n",
       "      <th>marketplace</th>\n",
       "      <th></th>\n",
       "      <th></th>\n",
       "    </tr>\n",
       "  </thead>\n",
       "  <tbody>\n",
       "    <tr>\n",
       "      <th>Agora</th>\n",
       "      <td>2013-12-25</td>\n",
       "      <td>2015-02-11</td>\n",
       "    </tr>\n",
       "    <tr>\n",
       "      <th>Alphabay</th>\n",
       "      <td>2014-12-31</td>\n",
       "      <td>2017-05-26</td>\n",
       "    </tr>\n",
       "    <tr>\n",
       "      <th>Black Market Reloaded</th>\n",
       "      <td>2012-11-25</td>\n",
       "      <td>2013-11-30</td>\n",
       "    </tr>\n",
       "    <tr>\n",
       "      <th>Evolution</th>\n",
       "      <td>2014-01-14</td>\n",
       "      <td>2015-02-19</td>\n",
       "    </tr>\n",
       "    <tr>\n",
       "      <th>Hydra</th>\n",
       "      <td>2014-04-14</td>\n",
       "      <td>2014-10-26</td>\n",
       "    </tr>\n",
       "    <tr>\n",
       "      <th>Pandora</th>\n",
       "      <td>2013-11-02</td>\n",
       "      <td>2014-10-13</td>\n",
       "    </tr>\n",
       "    <tr>\n",
       "      <th>Silk Road 1</th>\n",
       "      <td>2011-06-22</td>\n",
       "      <td>2013-08-19</td>\n",
       "    </tr>\n",
       "    <tr>\n",
       "      <th>Silk Road 2</th>\n",
       "      <td>2013-11-26</td>\n",
       "      <td>2014-10-28</td>\n",
       "    </tr>\n",
       "  </tbody>\n",
       "</table>\n",
       "</div>"
      ],
      "text/plain": [
       "                            date           \n",
       "                            amin       amax\n",
       "marketplace                                \n",
       "Agora                 2013-12-25 2015-02-11\n",
       "Alphabay              2014-12-31 2017-05-26\n",
       "Black Market Reloaded 2012-11-25 2013-11-30\n",
       "Evolution             2014-01-14 2015-02-19\n",
       "Hydra                 2014-04-14 2014-10-26\n",
       "Pandora               2013-11-02 2014-10-13\n",
       "Silk Road 1           2011-06-22 2013-08-19\n",
       "Silk Road 2           2013-11-26 2014-10-28"
      ]
     },
     "execution_count": 40,
     "metadata": {},
     "output_type": "execute_result"
    }
   ],
   "source": [
    "feedbacks_time = feedbacks.groupby(['marketplace']).agg({'date': [np.min,np.max]})\n",
    "feedbacks_time"
   ]
  },
  {
   "cell_type": "code",
   "execution_count": 41,
   "metadata": {},
   "outputs": [],
   "source": [
    "feedbacks_time['difference'] = feedbacks_time['date' ,'amax'] - feedbacks_time['date', 'amin']"
   ]
  },
  {
   "cell_type": "code",
   "execution_count": 178,
   "metadata": {},
   "outputs": [
    {
     "data": {
      "text/html": [
       "<div>\n",
       "<style scoped>\n",
       "    .dataframe tbody tr th:only-of-type {\n",
       "        vertical-align: middle;\n",
       "    }\n",
       "\n",
       "    .dataframe tbody tr th {\n",
       "        vertical-align: top;\n",
       "    }\n",
       "\n",
       "    .dataframe thead tr th {\n",
       "        text-align: left;\n",
       "    }\n",
       "\n",
       "    .dataframe thead tr:last-of-type th {\n",
       "        text-align: right;\n",
       "    }\n",
       "</style>\n",
       "<table border=\"1\" class=\"dataframe\">\n",
       "  <thead>\n",
       "    <tr>\n",
       "      <th></th>\n",
       "      <th colspan=\"2\" halign=\"left\">date</th>\n",
       "      <th>difference</th>\n",
       "    </tr>\n",
       "    <tr>\n",
       "      <th></th>\n",
       "      <th>amin</th>\n",
       "      <th>amax</th>\n",
       "      <th></th>\n",
       "    </tr>\n",
       "    <tr>\n",
       "      <th>marketplace</th>\n",
       "      <th></th>\n",
       "      <th></th>\n",
       "      <th></th>\n",
       "    </tr>\n",
       "  </thead>\n",
       "  <tbody>\n",
       "    <tr>\n",
       "      <th>Agora</th>\n",
       "      <td>2013-12-25</td>\n",
       "      <td>2015-02-11</td>\n",
       "      <td>413 days</td>\n",
       "    </tr>\n",
       "    <tr>\n",
       "      <th>Alphabay</th>\n",
       "      <td>2014-12-31</td>\n",
       "      <td>2017-05-26</td>\n",
       "      <td>877 days</td>\n",
       "    </tr>\n",
       "    <tr>\n",
       "      <th>Black Market Reloaded</th>\n",
       "      <td>2012-11-25</td>\n",
       "      <td>2013-11-30</td>\n",
       "      <td>370 days</td>\n",
       "    </tr>\n",
       "    <tr>\n",
       "      <th>Evolution</th>\n",
       "      <td>2014-01-14</td>\n",
       "      <td>2015-02-19</td>\n",
       "      <td>401 days</td>\n",
       "    </tr>\n",
       "    <tr>\n",
       "      <th>Hydra</th>\n",
       "      <td>2014-04-14</td>\n",
       "      <td>2014-10-26</td>\n",
       "      <td>195 days</td>\n",
       "    </tr>\n",
       "    <tr>\n",
       "      <th>Pandora</th>\n",
       "      <td>2013-11-02</td>\n",
       "      <td>2014-10-13</td>\n",
       "      <td>345 days</td>\n",
       "    </tr>\n",
       "    <tr>\n",
       "      <th>Silk Road 1</th>\n",
       "      <td>2011-06-22</td>\n",
       "      <td>2013-08-19</td>\n",
       "      <td>789 days</td>\n",
       "    </tr>\n",
       "    <tr>\n",
       "      <th>Silk Road 2</th>\n",
       "      <td>2013-11-26</td>\n",
       "      <td>2014-10-28</td>\n",
       "      <td>336 days</td>\n",
       "    </tr>\n",
       "  </tbody>\n",
       "</table>\n",
       "</div>"
      ],
      "text/plain": [
       "                            date            difference\n",
       "                            amin       amax           \n",
       "marketplace                                           \n",
       "Agora                 2013-12-25 2015-02-11   413 days\n",
       "Alphabay              2014-12-31 2017-05-26   877 days\n",
       "Black Market Reloaded 2012-11-25 2013-11-30   370 days\n",
       "Evolution             2014-01-14 2015-02-19   401 days\n",
       "Hydra                 2014-04-14 2014-10-26   195 days\n",
       "Pandora               2013-11-02 2014-10-13   345 days\n",
       "Silk Road 1           2011-06-22 2013-08-19   789 days\n",
       "Silk Road 2           2013-11-26 2014-10-28   336 days"
      ]
     },
     "execution_count": 178,
     "metadata": {},
     "output_type": "execute_result"
    }
   ],
   "source": [
    "feedbacks_time"
   ]
  },
  {
   "cell_type": "markdown",
   "metadata": {},
   "source": [
    "# Plotting"
   ]
  },
  {
   "cell_type": "markdown",
   "metadata": {},
   "source": [
    "To normalize the data (order-value and feedback-value) the following code was adopted. Normalization was performed to account for the lifetime of the markets."
   ]
  },
  {
   "cell_type": "code",
   "execution_count": null,
   "metadata": {},
   "outputs": [],
   "source": [
    "def normalize_feedback(marketplace, feedback_value):\n",
    "    deltatime = int(feedbacks_time.loc[[marketplace]]['difference', ''])\n",
    "    norm_value = feedback_value / deltatime * 365\n",
    "    return norm_value"
   ]
  },
  {
   "cell_type": "code",
   "execution_count": null,
   "metadata": {},
   "outputs": [],
   "source": [
    "feedbacks['norm_feedback_value'] = feedbacks.apply(lambda x: normalize_feedback(x['marketplace'], x['feedback_value']), axis = 1)"
   ]
  },
  {
   "cell_type": "code",
   "execution_count": null,
   "metadata": {},
   "outputs": [],
   "source": [
    "def normalize_order_value(marketplace, order_amount_usd):\n",
    "    deltatime = int(feedbacks_time.loc[[marketplace]]['difference', ''])\n",
    "    norm_value = order_amount_usd / deltatime * 365\n",
    "    return norm_value"
   ]
  },
  {
   "cell_type": "code",
   "execution_count": null,
   "metadata": {},
   "outputs": [],
   "source": [
    "feedbacks['norm_order_value'] = feedbacks.apply(lambda x: normalize_order_value(x['marketplace'], x['order_amount_usd']), axis = 1)"
   ]
  },
  {
   "cell_type": "markdown",
   "metadata": {},
   "source": [
    "Since the code above takes a pretty long time to rune the feedback was then saved as feedbacks.csv"
   ]
  },
  {
   "cell_type": "code",
   "execution_count": null,
   "metadata": {},
   "outputs": [],
   "source": [
    "feedbacks.to_csv(r'feedbacks.csv', index = False)"
   ]
  },
  {
   "cell_type": "markdown",
   "metadata": {},
   "source": [
    "## Timeseries"
   ]
  },
  {
   "cell_type": "markdown",
   "metadata": {},
   "source": [
    "### Share of total order value of cash-out"
   ]
  },
  {
   "cell_type": "markdown",
   "metadata": {},
   "source": [
    "We are only looking at the cash-out category thus we first filter on these."
   ]
  },
  {
   "cell_type": "code",
   "execution_count": 234,
   "metadata": {},
   "outputs": [],
   "source": [
    "feedbacks_wo_drugs = feedbacks[feedbacks.category != \"other\"]"
   ]
  },
  {
   "cell_type": "code",
   "execution_count": 235,
   "metadata": {},
   "outputs": [
    {
     "name": "stderr",
     "output_type": "stream",
     "text": [
      "C:\\Users\\cvolt\\anaconda3\\lib\\site-packages\\pandas\\core\\indexing.py:965: SettingWithCopyWarning: \n",
      "A value is trying to be set on a copy of a slice from a DataFrame.\n",
      "Try using .loc[row_indexer,col_indexer] = value instead\n",
      "\n",
      "See the caveats in the documentation: https://pandas.pydata.org/pandas-docs/stable/user_guide/indexing.html#returning-a-view-versus-a-copy\n",
      "  self.obj[item] = s\n"
     ]
    }
   ],
   "source": [
    "feedbacks_wo_drugs.loc[feedbacks_wo_drugs.category != \"cash-out\", 'category'] = \"other\""
   ]
  },
  {
   "cell_type": "code",
   "execution_count": 236,
   "metadata": {},
   "outputs": [
    {
     "name": "stderr",
     "output_type": "stream",
     "text": [
      "C:\\Users\\cvolt\\anaconda3\\lib\\site-packages\\ipykernel_launcher.py:1: SettingWithCopyWarning: \n",
      "A value is trying to be set on a copy of a slice from a DataFrame.\n",
      "Try using .loc[row_indexer,col_indexer] = value instead\n",
      "\n",
      "See the caveats in the documentation: https://pandas.pydata.org/pandas-docs/stable/user_guide/indexing.html#returning-a-view-versus-a-copy\n",
      "  \"\"\"Entry point for launching an IPython kernel.\n",
      "C:\\Users\\cvolt\\anaconda3\\lib\\site-packages\\ipykernel_launcher.py:2: SettingWithCopyWarning: \n",
      "A value is trying to be set on a copy of a slice from a DataFrame.\n",
      "Try using .loc[row_indexer,col_indexer] = value instead\n",
      "\n",
      "See the caveats in the documentation: https://pandas.pydata.org/pandas-docs/stable/user_guide/indexing.html#returning-a-view-versus-a-copy\n",
      "  \n"
     ]
    }
   ],
   "source": [
    "feedbacks_wo_drugs[\"month\"] = pd.DatetimeIndex(feedbacks_wo_drugs[\"date\"]).month\n",
    "feedbacks_wo_drugs[\"year\"] = pd.DatetimeIndex(feedbacks_wo_drugs[\"date\"]).year"
   ]
  },
  {
   "cell_type": "code",
   "execution_count": 237,
   "metadata": {},
   "outputs": [],
   "source": [
    "order_category = feedbacks_wo_drugs.groupby([\"date\", \"category\"]).sum().order_amount_usd.unstack().fillna(value = 0)\n",
    "order_category.index = pd.to_datetime(order_category.index)\n",
    "order_category = order_category.groupby(pd.Grouper(freq = \"M\")).sum()"
   ]
  },
  {
   "cell_type": "code",
   "execution_count": 238,
   "metadata": {},
   "outputs": [],
   "source": [
    "series = pd.Series(order_category.index.values)\n",
    "x = list(series.dt.strftime('%Y-%m'))\n",
    "y1 = list(order_category[\"cash-out\"])\n",
    "y2 = list(order_category[\"other\"])"
   ]
  },
  {
   "cell_type": "code",
   "execution_count": 239,
   "metadata": {},
   "outputs": [
    {
     "data": {
      "image/png": "[encoded data removed]",
      "text/plain": [
       "<Figure size 1440x576 with 1 Axes>"
      ]
     },
     "metadata": {
      "needs_background": "light"
     },
     "output_type": "display_data"
    }
   ],
   "source": [
    "plt.figure(figsize=(20,8))\n",
    "plt.stackplot(x,y1, y2, labels=['Cash-out','Other'])\n",
    "plt.title(\"Share of the total order value of cash-out\", fontsize=20)\n",
    "plt.xlabel(\"Month\", fontsize=15)\n",
    "plt.xticks(rotation=90)\n",
    "plt.ylabel(\"Usd\", fontsize=15)\n",
    "plt.legend(loc = 'upper right')\n",
    "plt.savefig(\"Share_of_cash_out.jpg\", dpi=300)"
   ]
  },
  {
   "cell_type": "markdown",
   "metadata": {},
   "source": [
    "### Total order amount"
   ]
  },
  {
   "cell_type": "code",
   "execution_count": 229,
   "metadata": {},
   "outputs": [],
   "source": [
    "total_order_marketplace = feedbacks_wo_drugs.groupby([\"date\", \"marketplace\"]).sum().order_amount_usd.unstack().fillna(value = 0)\n",
    "total_order_marketplace.index = pd.to_datetime(total_order_marketplace.index)\n",
    "total_order_marketplace = total_order_marketplace.groupby(pd.Grouper(freq = \"M\")).sum()"
   ]
  },
  {
   "cell_type": "code",
   "execution_count": 230,
   "metadata": {},
   "outputs": [],
   "source": [
    "series = pd.Series(total_order_marketplace.index.values)\n",
    "x = list(series.dt.strftime('%Y-%m'))\n",
    "\n",
    "y1 = list(total_order_marketplace.Agora)\n",
    "y2 = list(total_order_marketplace.Alphabay)\n",
    "y3 = list(total_order_marketplace[\"Black Market Reloaded\"])\n",
    "y4 = list(total_order_marketplace.Evolution)\n",
    "y5 = list(total_order_marketplace.Hydra)\n",
    "y6 = list(total_order_marketplace.Pandora)\n",
    "y7 = list(total_order_marketplace[\"Silk Road 1\"])\n",
    "y8 = list(total_order_marketplace[\"Silk Road 2\"])"
   ]
  },
  {
   "cell_type": "code",
   "execution_count": 232,
   "metadata": {},
   "outputs": [
    {
     "data": {
      "image/png": "[encoded data removed]",
      "text/plain": [
       "<Figure size 1440x576 with 1 Axes>"
      ]
     },
     "metadata": {
      "needs_background": "light"
     },
     "output_type": "display_data"
    }
   ],
   "source": [
    "plt.figure(figsize=(20,8))\n",
    "plt.stackplot(x,y1, y2, y3, y4, y5, y6, y7, y8, labels=['Agora','Alphabay','Black Market Reloaded', \"Evolution\", \"Hydra\", \"Pandora\", \"Silk Road 1\", \"Silk Road 2\"])\n",
    "plt.title(\"Total order amount\", fontsize=20)\n",
    "plt.xlabel(\"Month\", fontsize=15)\n",
    "plt.xticks(rotation=90)\n",
    "plt.ylabel(\"Usd\", fontsize=15)\n",
    "plt.legend(loc = 'upper right')\n",
    "plt.savefig(\"Total_order_amount_cash_out_per_market.jpg\", dpi=300)"
   ]
  },
  {
   "cell_type": "markdown",
   "metadata": {},
   "source": [
    "### Average feedback value per market"
   ]
  },
  {
   "cell_type": "code",
   "execution_count": 147,
   "metadata": {},
   "outputs": [],
   "source": [
    "feedbacks_cash_out = feedbacks[feedbacks.category == \"cash-out\"]\n",
    "total_feedback_marketplace = feedbacks_cash_out.groupby([\"date\", \"marketplace\"]).mean().feedback_value.unstack().fillna(value = 0)\n",
    "total_feedback_marketplace.index = pd.to_datetime(total_feedback_marketplace.index)\n",
    "total_feedback_marketplace = total_feedback_marketplace.groupby(pd.Grouper(freq = \"M\")).sum()"
   ]
  },
  {
   "cell_type": "code",
   "execution_count": 148,
   "metadata": {},
   "outputs": [],
   "source": [
    "average_feedback_marketplace = total_feedback_marketplace.groupby([total_feedback_marketplace.index.year, total_feedback_marketplace.index.month]).transform(lambda x: x/x.mean())\n",
    "average_feedback_marketplace.fillna(0, inplace = True)"
   ]
  },
  {
   "cell_type": "code",
   "execution_count": 240,
   "metadata": {},
   "outputs": [],
   "source": [
    "series = pd.Series(average_feedback_marketplace.index.values)\n",
    "x = list(series.dt.strftime('%Y-%m'))\n",
    "\n",
    "y1 = list(average_feedback_marketplace.Agora)\n",
    "y2 = list(average_feedback_marketplace.Alphabay)\n",
    "y3 = list(average_feedback_marketplace[\"Black Market Reloaded\"])\n",
    "y4 = list(average_feedback_marketplace.Evolution)\n",
    "y5 = list(average_feedback_marketplace.Hydra)\n",
    "y6 = list(average_feedback_marketplace.Pandora)\n",
    "y7 = list(average_feedback_marketplace[\"Silk Road 1\"])\n",
    "y8 = list(average_feedback_marketplace[\"Silk Road 2\"])"
   ]
  },
  {
   "cell_type": "code",
   "execution_count": 241,
   "metadata": {},
   "outputs": [
    {
     "data": {
      "image/png": "[encoded data removed]",
      "text/plain": [
       "<Figure size 1440x576 with 1 Axes>"
      ]
     },
     "metadata": {
      "needs_background": "light"
     },
     "output_type": "display_data"
    }
   ],
   "source": [
    "plt.figure(figsize=(20,8))\n",
    "plt.stackplot(x,y1, y2, y3, y4, y5, y6, y7, y8, labels=['Agora','Alphabay','Black Market Reloaded', \"Evolution\", \"Hydra\", \"Pandora\", \"Silk Road 1\", \"Silk Road 2\"])\n",
    "plt.title(\"Average feedback value cash-out category\", fontsize=20)\n",
    "plt.xlabel(\"Month\", fontsize=15)\n",
    "plt.xticks(rotation=90)\n",
    "plt.ylabel(\"Feedback value\", fontsize=15)\n",
    "plt.legend(loc = 'upper right')\n",
    "plt.savefig(\"Average_feedback_value_cash_out.jpg\", dpi=300)"
   ]
  },
  {
   "cell_type": "markdown",
   "metadata": {},
   "source": [
    "Conclusion: as can be seen in the figure the feedback value for cash-out products is higher for the market Pandora.Next to that it can be seen that some markets have a 0 value for the feedback in the cash-out category."
   ]
  },
  {
   "cell_type": "markdown",
   "metadata": {},
   "source": [
    "### Number of cash-out products sold per market per year"
   ]
  },
  {
   "cell_type": "markdown",
   "metadata": {},
   "source": [
    "We are going to look at the number of cash-out products sold per year of the marketplace"
   ]
  },
  {
   "cell_type": "code",
   "execution_count": 219,
   "metadata": {},
   "outputs": [],
   "source": [
    "feedbacks2 = feedbacks_cash_out.groupby([\"marketplace\", \"date\"]).sum().feedback_value.unstack(-2)"
   ]
  },
  {
   "cell_type": "code",
   "execution_count": 220,
   "metadata": {},
   "outputs": [
    {
     "data": {
      "text/html": [
       "<div>\n",
       "<style scoped>\n",
       "    .dataframe tbody tr th:only-of-type {\n",
       "        vertical-align: middle;\n",
       "    }\n",
       "\n",
       "    .dataframe tbody tr th {\n",
       "        vertical-align: top;\n",
       "    }\n",
       "\n",
       "    .dataframe thead th {\n",
       "        text-align: right;\n",
       "    }\n",
       "</style>\n",
       "<table border=\"1\" class=\"dataframe\">\n",
       "  <thead>\n",
       "    <tr style=\"text-align: right;\">\n",
       "      <th>marketplace</th>\n",
       "      <th>Agora</th>\n",
       "      <th>Alphabay</th>\n",
       "      <th>Black Market Reloaded</th>\n",
       "      <th>Evolution</th>\n",
       "      <th>Hydra</th>\n",
       "      <th>Pandora</th>\n",
       "      <th>Silk Road 1</th>\n",
       "      <th>Silk Road 2</th>\n",
       "    </tr>\n",
       "    <tr>\n",
       "      <th>date</th>\n",
       "      <th></th>\n",
       "      <th></th>\n",
       "      <th></th>\n",
       "      <th></th>\n",
       "      <th></th>\n",
       "      <th></th>\n",
       "      <th></th>\n",
       "      <th></th>\n",
       "    </tr>\n",
       "  </thead>\n",
       "  <tbody>\n",
       "    <tr>\n",
       "      <th>2011-06-22</th>\n",
       "      <td>NaN</td>\n",
       "      <td>NaN</td>\n",
       "      <td>NaN</td>\n",
       "      <td>NaN</td>\n",
       "      <td>NaN</td>\n",
       "      <td>NaN</td>\n",
       "      <td>40.0</td>\n",
       "      <td>NaN</td>\n",
       "    </tr>\n",
       "    <tr>\n",
       "      <th>2011-06-23</th>\n",
       "      <td>NaN</td>\n",
       "      <td>NaN</td>\n",
       "      <td>NaN</td>\n",
       "      <td>NaN</td>\n",
       "      <td>NaN</td>\n",
       "      <td>NaN</td>\n",
       "      <td>10.0</td>\n",
       "      <td>NaN</td>\n",
       "    </tr>\n",
       "    <tr>\n",
       "      <th>2011-06-25</th>\n",
       "      <td>NaN</td>\n",
       "      <td>NaN</td>\n",
       "      <td>NaN</td>\n",
       "      <td>NaN</td>\n",
       "      <td>NaN</td>\n",
       "      <td>NaN</td>\n",
       "      <td>5.0</td>\n",
       "      <td>NaN</td>\n",
       "    </tr>\n",
       "    <tr>\n",
       "      <th>2011-06-27</th>\n",
       "      <td>NaN</td>\n",
       "      <td>NaN</td>\n",
       "      <td>NaN</td>\n",
       "      <td>NaN</td>\n",
       "      <td>NaN</td>\n",
       "      <td>NaN</td>\n",
       "      <td>10.0</td>\n",
       "      <td>NaN</td>\n",
       "    </tr>\n",
       "    <tr>\n",
       "      <th>2011-06-28</th>\n",
       "      <td>NaN</td>\n",
       "      <td>NaN</td>\n",
       "      <td>NaN</td>\n",
       "      <td>NaN</td>\n",
       "      <td>NaN</td>\n",
       "      <td>NaN</td>\n",
       "      <td>5.0</td>\n",
       "      <td>NaN</td>\n",
       "    </tr>\n",
       "    <tr>\n",
       "      <th>...</th>\n",
       "      <td>...</td>\n",
       "      <td>...</td>\n",
       "      <td>...</td>\n",
       "      <td>...</td>\n",
       "      <td>...</td>\n",
       "      <td>...</td>\n",
       "      <td>...</td>\n",
       "      <td>...</td>\n",
       "    </tr>\n",
       "    <tr>\n",
       "      <th>2017-05-22</th>\n",
       "      <td>NaN</td>\n",
       "      <td>0.0</td>\n",
       "      <td>NaN</td>\n",
       "      <td>NaN</td>\n",
       "      <td>NaN</td>\n",
       "      <td>NaN</td>\n",
       "      <td>NaN</td>\n",
       "      <td>NaN</td>\n",
       "    </tr>\n",
       "    <tr>\n",
       "      <th>2017-05-23</th>\n",
       "      <td>NaN</td>\n",
       "      <td>0.0</td>\n",
       "      <td>NaN</td>\n",
       "      <td>NaN</td>\n",
       "      <td>NaN</td>\n",
       "      <td>NaN</td>\n",
       "      <td>NaN</td>\n",
       "      <td>NaN</td>\n",
       "    </tr>\n",
       "    <tr>\n",
       "      <th>2017-05-24</th>\n",
       "      <td>NaN</td>\n",
       "      <td>0.0</td>\n",
       "      <td>NaN</td>\n",
       "      <td>NaN</td>\n",
       "      <td>NaN</td>\n",
       "      <td>NaN</td>\n",
       "      <td>NaN</td>\n",
       "      <td>NaN</td>\n",
       "    </tr>\n",
       "    <tr>\n",
       "      <th>2017-05-25</th>\n",
       "      <td>NaN</td>\n",
       "      <td>0.0</td>\n",
       "      <td>NaN</td>\n",
       "      <td>NaN</td>\n",
       "      <td>NaN</td>\n",
       "      <td>NaN</td>\n",
       "      <td>NaN</td>\n",
       "      <td>NaN</td>\n",
       "    </tr>\n",
       "    <tr>\n",
       "      <th>2017-05-26</th>\n",
       "      <td>NaN</td>\n",
       "      <td>0.0</td>\n",
       "      <td>NaN</td>\n",
       "      <td>NaN</td>\n",
       "      <td>NaN</td>\n",
       "      <td>NaN</td>\n",
       "      <td>NaN</td>\n",
       "      <td>NaN</td>\n",
       "    </tr>\n",
       "  </tbody>\n",
       "</table>\n",
       "<p>1825 rows × 8 columns</p>\n",
       "</div>"
      ],
      "text/plain": [
       "marketplace  Agora  Alphabay  Black Market Reloaded  Evolution  Hydra  \\\n",
       "date                                                                    \n",
       "2011-06-22     NaN       NaN                    NaN        NaN    NaN   \n",
       "2011-06-23     NaN       NaN                    NaN        NaN    NaN   \n",
       "2011-06-25     NaN       NaN                    NaN        NaN    NaN   \n",
       "2011-06-27     NaN       NaN                    NaN        NaN    NaN   \n",
       "2011-06-28     NaN       NaN                    NaN        NaN    NaN   \n",
       "...            ...       ...                    ...        ...    ...   \n",
       "2017-05-22     NaN       0.0                    NaN        NaN    NaN   \n",
       "2017-05-23     NaN       0.0                    NaN        NaN    NaN   \n",
       "2017-05-24     NaN       0.0                    NaN        NaN    NaN   \n",
       "2017-05-25     NaN       0.0                    NaN        NaN    NaN   \n",
       "2017-05-26     NaN       0.0                    NaN        NaN    NaN   \n",
       "\n",
       "marketplace  Pandora  Silk Road 1  Silk Road 2  \n",
       "date                                            \n",
       "2011-06-22       NaN         40.0          NaN  \n",
       "2011-06-23       NaN         10.0          NaN  \n",
       "2011-06-25       NaN          5.0          NaN  \n",
       "2011-06-27       NaN         10.0          NaN  \n",
       "2011-06-28       NaN          5.0          NaN  \n",
       "...              ...          ...          ...  \n",
       "2017-05-22       NaN          NaN          NaN  \n",
       "2017-05-23       NaN          NaN          NaN  \n",
       "2017-05-24       NaN          NaN          NaN  \n",
       "2017-05-25       NaN          NaN          NaN  \n",
       "2017-05-26       NaN          NaN          NaN  \n",
       "\n",
       "[1825 rows x 8 columns]"
      ]
     },
     "execution_count": 220,
     "metadata": {},
     "output_type": "execute_result"
    }
   ],
   "source": [
    "feedbacks2"
   ]
  },
  {
   "cell_type": "code",
   "execution_count": 221,
   "metadata": {},
   "outputs": [],
   "source": [
    "feedbacks3 = feedbacks2.groupby(pd.Grouper(freq = \"Y\")).sum()"
   ]
  },
  {
   "cell_type": "code",
   "execution_count": 222,
   "metadata": {},
   "outputs": [],
   "source": [
    "for x in feedbacks3.columns.values:\n",
    "    deltatime = feedbacks_time.loc[x]['difference', ''].days\n",
    "    feedbacks3[x] = feedbacks3[x]/deltatime"
   ]
  },
  {
   "cell_type": "code",
   "execution_count": 275,
   "metadata": {},
   "outputs": [
    {
     "data": {
      "image/png": "[encoded data removed]",
      "text/plain": [
       "<Figure size 576x360 with 1 Axes>"
      ]
     },
     "metadata": {
      "needs_background": "light"
     },
     "output_type": "display_data"
    }
   ],
   "source": [
    "plt.figure(figsize=(8,5))\n",
    "feedbacks3.sum().plot(kind = 'bar')\n",
    "plt.title('Average number of entered feedbacks per year of lifetime', fontsize = 10)\n",
    "plt.ylabel('Number of entries')\n",
    "plt.xlabel('Marketplaces')\n",
    "plt.xticks(fontsize = 8)\n",
    "plt.gcf().subplots_adjust(bottom=0.35)\n",
    "plt.savefig(\"Average_num_entered_feedbacks_cash_out.jpg\", dpi=300)"
   ]
  },
  {
   "cell_type": "markdown",
   "metadata": {},
   "source": [
    "### Keyword analysis cash-out"
   ]
  },
  {
   "cell_type": "markdown",
   "metadata": {},
   "source": [
    "To see what words were used most in the title of the order a small keyword analysis was performed to look at the amount of times that a word occurred in a certain title."
   ]
  },
  {
   "cell_type": "code",
   "execution_count": 279,
   "metadata": {},
   "outputs": [],
   "source": [
    "freq = pd.Series(' '.join(feedbacks_cash_out['order_title']).split()).value_counts()[:50]"
   ]
  },
  {
   "cell_type": "code",
   "execution_count": 282,
   "metadata": {},
   "outputs": [
    {
     "data": {
      "image/png": "[encoded data removed]",
      "text/plain": [
       "<Figure size 1440x720 with 1 Axes>"
      ]
     },
     "metadata": {
      "needs_background": "light"
     },
     "output_type": "display_data"
    }
   ],
   "source": [
    "plt.figure(figsize=(20,10))\n",
    "freq.plot(kind = 'bar')\n",
    "plt.title(\"Most common words\", fontsize=20)\n",
    "plt.xlabel(\"Words\", fontsize=15)\n",
    "plt.ylabel(\"Number of occurences\", fontsize=15)\n",
    "plt.savefig(\"Keyword_analysis_cash_out.jpg\", dpi=300)"
   ]
  },
  {
   "cell_type": "code",
   "execution_count": null,
   "metadata": {},
   "outputs": [],
   "source": []
  }
 ],
 "metadata": {
  "kernelspec": {
   "display_name": "Python 3",
   "language": "python",
   "name": "python3"
  },
  "language_info": {
   "codemirror_mode": {
    "name": "ipython",
    "version": 3
   },
   "file_extension": ".py",
   "mimetype": "text/x-python",
   "name": "python",
   "nbconvert_exporter": "python",
   "pygments_lexer": "ipython3",
   "version": "3.7.6"
  }
 },
 "nbformat": 4,
 "nbformat_minor": 4
}
