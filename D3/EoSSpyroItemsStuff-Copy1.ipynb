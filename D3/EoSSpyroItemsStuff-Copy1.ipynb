{
 "cells": [
  {
   "cell_type": "code",
   "execution_count": 1,
   "metadata": {
    "scrolled": true
   },
   "outputs": [
    {
     "data": {
      "text/plain": [
       "'\\norder_amount_usd\\nAlgo:\\n    filter cashout category.\\n    For all markets:\\n        Sum sales in the cashout category\\n'"
      ]
     },
     "execution_count": 1,
     "metadata": {},
     "output_type": "execute_result"
    }
   ],
   "source": [
    "import pandas as pd\n",
    "import numpy as np\n",
    "import datetime\n",
    "\n",
    "#items = pd.read_csv(r'./items.csv')\n",
    "feedbacks = pd.read_csv(r'./feedbacks.csv')\n",
    "\n",
    "feedbacks = feedbacks.sort_values(by='date').reset_index()\n",
    "del feedbacks['index']\n",
    "\n",
    "feedbacks['date']=feedbacks['date'].apply(lambda x: int(x[:4]))\n",
    "feedbacks=feedbacks[feedbacks['category'] != 'other']\n",
    "\n",
    "cashOuts = feedbacks[feedbacks['category'] == 'cash-out']\n",
    "data={}\n",
    "\n",
    "for i in range(2011, 2018):\n",
    "    data[i] = cashOuts.date.values.searchsorted(i+1)\n",
    "    \n",
    "years = dict.fromkeys(data.keys())\n",
    "valueSumsPerYear = dict.fromkeys(data.keys()) \n",
    "cashOutsPerYear = dict.fromkeys(data.keys()) \n",
    "\n",
    "#all cats per year - other category\n",
    "for key in years.keys():\n",
    "    if key == 2011:\n",
    "        years[key] = feedbacks[:data[key]]\n",
    "        cashOutsPerYear[key] = feedbacks[:data[key]].loc[feedbacks['category'] == 'cash-out']['order_amount_usd'].sum()\n",
    "    else:\n",
    "        years[key] = feedbacks[data[key-1]:data[key]]\n",
    "        cashOutsPerYear[key] = feedbacks[data[key-1]:data[key]].loc[feedbacks['category'] == 'cash-out']['order_amount_usd'].sum()\n",
    "    valueSumsPerYear[key] = years[key]['order_amount_usd'].sum()\n",
    "\"\"\" print(\"key: \"+ str(key))\n",
    "    print(\"money sum: {:.2f}\".format(valueSumsPerYear[key]))\n",
    "    print(\"cashouts/totalMoney: {:.2f}\".format(cashOutsPerYear[key]/valueSumsPerYear[key]))\"\"\"\n",
    "    \n",
    "#Tom Stuff1\n",
    "\"\"\"\n",
    "- Cash-out category value of a single market over 12 months / total market value of this single market at this year\n",
    "Steps to take for a single market :\n",
    "1. sum sales in cash-out category over 12 subsequent months (or just take one year)\n",
    "2. divide by sum of sales of all categories over these same 12 months (or just one year)\n",
    "3. iterate step 1 and 2 over all years (or 12 months) and pick the max value\n",
    "\n",
    "Then iterate step 123 over all markets, to find the value found in step 3 for all different markets (agora, alphabay, etc)\"\"\"\n",
    "\n",
    "\"\"\"\n",
    "items.columns:\n",
    "\n",
    "Index(['item_hash', 'category', 'marketplace', 'title', 'vendor_hash',\n",
    "       'total_sales', 'first_observed', 'last_observed', 'ships_to',\n",
    "       'ships_from', 'description'],\n",
    "      dtype='object')\n",
    "\n",
    "\"\"\"\n",
    "\n",
    "\"\"\"\n",
    "order_amount_usd\n",
    "Algo:\n",
    "    filter cashout category.\n",
    "    For all markets:\n",
    "        Sum sales in the cashout category\n",
    "\"\"\""
   ]
  },
  {
   "cell_type": "code",
   "execution_count": 2,
   "metadata": {},
   "outputs": [],
   "source": [
    "items = pd.read_csv(r'./items.csv')\n",
    "#items.set_index(\"item_hash\", inplace=True)"
   ]
  },
  {
   "cell_type": "code",
   "execution_count": 23,
   "metadata": {},
   "outputs": [
    {
     "data": {
      "text/plain": [
       "Index(['item_hash', 'category', 'marketplace', 'title', 'vendor_hash',\n",
       "       'total_sales', 'first_observed', 'last_observed', 'ships_to',\n",
       "       'ships_from', 'description'],\n",
       "      dtype='object')"
      ]
     },
     "execution_count": 23,
     "metadata": {},
     "output_type": "execute_result"
    }
   ],
   "source": [
    "items.columns"
   ]
  },
  {
   "cell_type": "markdown",
   "metadata": {},
   "source": [
    "# READ AND PROCESS FEEDBACKS(DROP OTHER)"
   ]
  },
  {
   "cell_type": "code",
   "execution_count": 19,
   "metadata": {},
   "outputs": [],
   "source": [
    "feedbacks = pd.read_csv(r'./feedbacks.csv')\n",
    "feedbacks[\"date\"] = pd.to_datetime(feedbacks[\"date\"])\n",
    "feedbacks.sort_values(by=\"date\", inplace=True)\n",
    "feedbacks.drop(feedbacks[feedbacks[\"category\"] == \"other\"].index, inplace=True)\n",
    "feedbacks=feedbacks[~feedbacks[\"category\"].str.contains(\"other\")]\n",
    "\n",
    "cashOuts = feedbacks.drop(feedbacks[feedbacks[\"category\"] != \"cash-out\"].index)\n",
    "\n",
    "#feedbacksGroupped = feedbacks.groupby(by=\"item_hash\").sum()#.drop(columns=['date', 'feedback_value', 'norm_feedback_value', 'norm_order_value'])\n",
    "#feedbacksGroupped"
   ]
  },
  {
   "cell_type": "code",
   "execution_count": 4,
   "metadata": {
    "scrolled": true
   },
   "outputs": [],
   "source": [
    "feedbacks[\"date\"] = feedbacks[\"date\"].apply(lambda x: x.year)\n",
    "cashOuts[\"date\"] = cashOuts[\"date\"].apply(lambda x: x.year)"
   ]
  },
  {
   "cell_type": "code",
   "execution_count": 5,
   "metadata": {},
   "outputs": [],
   "source": [
    "cashOutsByYear = {}\n",
    "feedbacksByYear = {}\n",
    "for date in range(2011, 2018):\n",
    "    cashOutsByYear[date] = cashOuts[cashOuts[\"date\"] == date]\n",
    "    feedbacksByYear[date] = feedbacks[feedbacks[\"date\"] == date]"
   ]
  },
  {
   "cell_type": "code",
   "execution_count": 35,
   "metadata": {},
   "outputs": [],
   "source": [
    "markets = items[\"marketplace\"].unique()"
   ]
  },
  {
   "cell_type": "code",
   "execution_count": 34,
   "metadata": {},
   "outputs": [],
   "source": [
    "\"per date, I wanna get the marketplace of each item\"\n",
    "#everything split by year.\n",
    "cashOutsPerYearPerMarket = dict.fromkeys(range(2011, 2018))"
   ]
  },
  {
   "cell_type": "code",
   "execution_count": 21,
   "metadata": {
    "scrolled": true
   },
   "outputs": [],
   "source": [
    "itemCategoryMapping = pd.merge(items, feedbacks.groupby(by=\"item_hash\").sum(), on=['item_hash'])\n",
    "itemCategoryMapping = itemCategoryMapping[~itemCategoryMapping[\"category\"].str.contains(\"other\")]"
   ]
  },
  {
   "cell_type": "code",
   "execution_count": 27,
   "metadata": {},
   "outputs": [
    {
     "data": {
      "text/plain": [
       "1682.9299999999998"
      ]
     },
     "execution_count": 27,
     "metadata": {},
     "output_type": "execute_result"
    }
   ],
   "source": [
    "#len(itemCategoryMapping) = 14419\n",
    "#len(itemCategoryMapping.groupby(by=\"item_hash\").sum()) = 14419"
   ]
  },
  {
   "cell_type": "code",
   "execution_count": 40,
   "metadata": {
    "scrolled": true
   },
   "outputs": [
    {
     "data": {
      "text/html": [
       "<div>\n",
       "<style scoped>\n",
       "    .dataframe tbody tr th:only-of-type {\n",
       "        vertical-align: middle;\n",
       "    }\n",
       "\n",
       "    .dataframe tbody tr th {\n",
       "        vertical-align: top;\n",
       "    }\n",
       "\n",
       "    .dataframe thead th {\n",
       "        text-align: right;\n",
       "    }\n",
       "</style>\n",
       "<table border=\"1\" class=\"dataframe\">\n",
       "  <thead>\n",
       "    <tr style=\"text-align: right;\">\n",
       "      <th></th>\n",
       "      <th>feedback_value</th>\n",
       "      <th>order_amount_usd</th>\n",
       "      <th>norm_feedback_value</th>\n",
       "      <th>norm_order_value</th>\n",
       "    </tr>\n",
       "    <tr>\n",
       "      <th>item_hash</th>\n",
       "      <th></th>\n",
       "      <th></th>\n",
       "      <th></th>\n",
       "      <th></th>\n",
       "    </tr>\n",
       "  </thead>\n",
       "  <tbody>\n",
       "    <tr>\n",
       "      <th>00019696ba886889ed7612e2938f97a0</th>\n",
       "      <td>0.0</td>\n",
       "      <td>30.00</td>\n",
       "      <td>0.000000</td>\n",
       "      <td>12.485747</td>\n",
       "    </tr>\n",
       "    <tr>\n",
       "      <th>000b75bdcddb7357d9703d83d5472bcb</th>\n",
       "      <td>0.0</td>\n",
       "      <td>86.40</td>\n",
       "      <td>0.000000</td>\n",
       "      <td>35.958951</td>\n",
       "    </tr>\n",
       "    <tr>\n",
       "      <th>000cb461a77bf082f74ed1de72c58f30</th>\n",
       "      <td>1.0</td>\n",
       "      <td>14.89</td>\n",
       "      <td>0.910224</td>\n",
       "      <td>13.553242</td>\n",
       "    </tr>\n",
       "    <tr>\n",
       "      <th>001886929e52f4f7d9d0670d3196525e</th>\n",
       "      <td>0.0</td>\n",
       "      <td>19.25</td>\n",
       "      <td>0.000000</td>\n",
       "      <td>8.011688</td>\n",
       "    </tr>\n",
       "    <tr>\n",
       "      <th>00224b99c217891c4b5a66b774d2669d</th>\n",
       "      <td>0.0</td>\n",
       "      <td>420.00</td>\n",
       "      <td>0.000000</td>\n",
       "      <td>174.800456</td>\n",
       "    </tr>\n",
       "    <tr>\n",
       "      <th>...</th>\n",
       "      <td>...</td>\n",
       "      <td>...</td>\n",
       "      <td>...</td>\n",
       "      <td>...</td>\n",
       "    </tr>\n",
       "    <tr>\n",
       "      <th>ffed1074b949aa3ec568745b9995f6f8</th>\n",
       "      <td>5.0</td>\n",
       "      <td>47.38</td>\n",
       "      <td>2.313054</td>\n",
       "      <td>21.918504</td>\n",
       "    </tr>\n",
       "    <tr>\n",
       "      <th>fff753ea2887e70927a809c636bb1063</th>\n",
       "      <td>9.0</td>\n",
       "      <td>0.99</td>\n",
       "      <td>8.192020</td>\n",
       "      <td>0.901122</td>\n",
       "    </tr>\n",
       "    <tr>\n",
       "      <th>fffa95cd9e673e8c3a1178cb00cabc0c</th>\n",
       "      <td>0.0</td>\n",
       "      <td>0.99</td>\n",
       "      <td>0.000000</td>\n",
       "      <td>0.412030</td>\n",
       "    </tr>\n",
       "    <tr>\n",
       "      <th>fffad0cfa5bb7ce6f2a1ca2638361f72</th>\n",
       "      <td>5.0</td>\n",
       "      <td>90.20</td>\n",
       "      <td>5.289855</td>\n",
       "      <td>95.428986</td>\n",
       "    </tr>\n",
       "    <tr>\n",
       "      <th>fffbc7025d694d810d367d827ea1aceb</th>\n",
       "      <td>0.0</td>\n",
       "      <td>90.00</td>\n",
       "      <td>0.000000</td>\n",
       "      <td>37.457241</td>\n",
       "    </tr>\n",
       "  </tbody>\n",
       "</table>\n",
       "<p>14419 rows × 4 columns</p>\n",
       "</div>"
      ],
      "text/plain": [
       "                                  feedback_value  order_amount_usd  \\\n",
       "item_hash                                                            \n",
       "00019696ba886889ed7612e2938f97a0             0.0             30.00   \n",
       "000b75bdcddb7357d9703d83d5472bcb             0.0             86.40   \n",
       "000cb461a77bf082f74ed1de72c58f30             1.0             14.89   \n",
       "001886929e52f4f7d9d0670d3196525e             0.0             19.25   \n",
       "00224b99c217891c4b5a66b774d2669d             0.0            420.00   \n",
       "...                                          ...               ...   \n",
       "ffed1074b949aa3ec568745b9995f6f8             5.0             47.38   \n",
       "fff753ea2887e70927a809c636bb1063             9.0              0.99   \n",
       "fffa95cd9e673e8c3a1178cb00cabc0c             0.0              0.99   \n",
       "fffad0cfa5bb7ce6f2a1ca2638361f72             5.0             90.20   \n",
       "fffbc7025d694d810d367d827ea1aceb             0.0             90.00   \n",
       "\n",
       "                                  norm_feedback_value  norm_order_value  \n",
       "item_hash                                                                \n",
       "00019696ba886889ed7612e2938f97a0             0.000000         12.485747  \n",
       "000b75bdcddb7357d9703d83d5472bcb             0.000000         35.958951  \n",
       "000cb461a77bf082f74ed1de72c58f30             0.910224         13.553242  \n",
       "001886929e52f4f7d9d0670d3196525e             0.000000          8.011688  \n",
       "00224b99c217891c4b5a66b774d2669d             0.000000        174.800456  \n",
       "...                                               ...               ...  \n",
       "ffed1074b949aa3ec568745b9995f6f8             2.313054         21.918504  \n",
       "fff753ea2887e70927a809c636bb1063             8.192020          0.901122  \n",
       "fffa95cd9e673e8c3a1178cb00cabc0c             0.000000          0.412030  \n",
       "fffad0cfa5bb7ce6f2a1ca2638361f72             5.289855         95.428986  \n",
       "fffbc7025d694d810d367d827ea1aceb             0.000000         37.457241  \n",
       "\n",
       "[14419 rows x 4 columns]"
      ]
     },
     "execution_count": 40,
     "metadata": {},
     "output_type": "execute_result"
    }
   ],
   "source": [
    "feedbacks.groupby(by=\"item_hash\").sum()\n"
   ]
  },
  {
   "cell_type": "code",
   "execution_count": null,
   "metadata": {},
   "outputs": [],
   "source": [
    "print()"
   ]
  },
  {
   "cell_type": "code",
   "execution_count": 37,
   "metadata": {},
   "outputs": [],
   "source": [
    "\"\"\"for year in cashOutsPerYearPerMarket.keys():\n",
    "    cashOutsPerYearPerMarket[year] = dict.fromkeys(markets)\n",
    "    for market in cashOutsPerYearPerMarket[year].keys():\n",
    "        cashOutsPerYearPerMarket[year][market] = \n",
    "\"\"\""
   ]
  },
  {
   "cell_type": "code",
   "execution_count": null,
   "metadata": {},
   "outputs": [],
   "source": []
  }
 ],
 "metadata": {
  "kernelspec": {
   "display_name": "Python 3",
   "language": "python",
   "name": "python3"
  },
  "language_info": {
   "codemirror_mode": {
    "name": "ipython",
    "version": 3
   },
   "file_extension": ".py",
   "mimetype": "text/x-python",
   "name": "python",
   "nbconvert_exporter": "python",
   "pygments_lexer": "ipython3",
   "version": "3.8.3"
  }
 },
 "nbformat": 4,
 "nbformat_minor": 4
}
