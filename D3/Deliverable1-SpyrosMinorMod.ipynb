{
 "cells": [
  {
   "cell_type": "code",
   "execution_count": 3,
   "metadata": {},
   "outputs": [],
   "source": [
    "import sqlite3"
   ]
  },
  {
   "cell_type": "code",
   "execution_count": 4,
   "metadata": {},
   "outputs": [],
   "source": [
    "conn = sqlite3.connect('example.db')"
   ]
  },
  {
   "cell_type": "code",
   "execution_count": 1,
   "metadata": {},
   "outputs": [],
   "source": [
    "import pandas as pd"
   ]
  },
  {
   "cell_type": "code",
   "execution_count": 9,
   "metadata": {},
   "outputs": [
    {
     "name": "stdout",
     "output_type": "stream",
     "text": [
      "                                hash_str category  marketplace  \\\n",
      "0       eccd15d45510ce42400794e6f714c463  malware     Alphabay   \n",
      "1       245b10f91e425118726326e25d795f05  malware     Alphabay   \n",
      "2       6e6943496caeaac4cf8ed27cc7f5c99c  malware     Alphabay   \n",
      "3       89b5e952f30a336bcf5a019033dba49e  malware     Alphabay   \n",
      "4       b2ba7249464afb641a577f893ff8d1c3  malware     Alphabay   \n",
      "...                                  ...      ...          ...   \n",
      "564199  82418de6b0918fa3e1286929b490bc69    other  Silk Road 1   \n",
      "564200  96309b0e92ee2ca63197cbb1441daaaf    other  Silk Road 1   \n",
      "564201  f4501bd694a9f5e186624350d1bca1e8    other  Silk Road 1   \n",
      "564202  fd2bff284aa276a1cc46672c9e207e6d    other  Silk Road 1   \n",
      "564203  6a6c6146741edef95b40d9c2fe5192a6    other    Evolution   \n",
      "\n",
      "                               item_hash        date  \\\n",
      "0       011971e1a3a982cdd1f4bfa85b299b9e  2015-04-29   \n",
      "1       02135ec825483815cda83d2b50464860  2016-06-21   \n",
      "2       02135ec825483815cda83d2b50464860  2016-05-12   \n",
      "3       02135ec825483815cda83d2b50464860  2017-02-11   \n",
      "4       02135ec825483815cda83d2b50464860  2016-12-19   \n",
      "...                                  ...         ...   \n",
      "564199  fffc702102982d8f4260ceb9d249549d  2013-06-17   \n",
      "564200  fffc702102982d8f4260ceb9d249549d  2013-04-09   \n",
      "564201  fffc702102982d8f4260ceb9d249549d  2013-04-09   \n",
      "564202  fffc702102982d8f4260ceb9d249549d  2013-03-21   \n",
      "564203  fffe21ad6b3c016f7afc1d54351c12a4  2014-08-03   \n",
      "\n",
      "                              giver_hash                     receiver_hash  \\\n",
      "0       d8e1014c9e3c1649b8111557f928d93b  f848fa05a8b9e8f96e6dae9edd34a606   \n",
      "1       23fe762da44d498b4f16f92ca77eb296  fd4ba8c2e62e15b0612409540c6afb2e   \n",
      "2       1345dfdc59e68fce93d428444e99c9f1  fd4ba8c2e62e15b0612409540c6afb2e   \n",
      "3       338d2467885a5168a0cb82b73e0c02a7  fd4ba8c2e62e15b0612409540c6afb2e   \n",
      "4       17f5fb0fbde6a3592b7c6e3772c53346  fd4ba8c2e62e15b0612409540c6afb2e   \n",
      "...                                  ...                               ...   \n",
      "564199  6bf013059b63d2c42f6adc9ddd7ef941  2189defc5fd7b737a506e8eeb4d11595   \n",
      "564200  6bf013059b63d2c42f6adc9ddd7ef941  2189defc5fd7b737a506e8eeb4d11595   \n",
      "564201  6bf013059b63d2c42f6adc9ddd7ef941  2189defc5fd7b737a506e8eeb4d11595   \n",
      "564202  6bf013059b63d2c42f6adc9ddd7ef941  2189defc5fd7b737a506e8eeb4d11595   \n",
      "564203  3fece5802ae4ebed551b3336fbdf9c6b  0cbdff68c022628b6e615c7ff78dfa7c   \n",
      "\n",
      "                                                  message  \\\n",
      "0                                              No comment   \n",
      "1                                              No comment   \n",
      "2                                  Works like a charm ...   \n",
      "3                                                     A++   \n",
      "4                           GG is just the best period!!!   \n",
      "...                                                   ...   \n",
      "564199  FE haven't received any consultation yet, will...   \n",
      "564200                    So far so good , will update :)   \n",
      "564201                                  fast and friendly   \n",
      "564202               Just starting now, will update later   \n",
      "564203  Excellent vendor, thanks for another A+ transa...   \n",
      "\n",
      "                                              order_title  feedback_value  \\\n",
      "0               Bot Bundle - More than 150 different Bots             0.0   \n",
      "1                                       Proxifier v. 3.29             0.0   \n",
      "2                                       Proxifier v. 3.29             0.0   \n",
      "3                                       Proxifier v. 3.29             0.0   \n",
      "4                                       Proxifier v. 3.29             0.0   \n",
      "...                                                   ...             ...   \n",
      "564199  Consultation | Advanced Level Vending, Cashing...             5.0   \n",
      "564200  Consultation | Advanced Level Vending, Cashing...             5.0   \n",
      "564201  Consultation | Advanced Level Vending, Cashing...             5.0   \n",
      "564202  Consultation | Advanced Level Vending, Cashing...             5.0   \n",
      "564203                                       Sqli vmi.edu             3.0   \n",
      "\n",
      "        order_amount_usd  \n",
      "0                   8.37  \n",
      "1                   7.00  \n",
      "2                   7.00  \n",
      "3                   7.00  \n",
      "4                   7.00  \n",
      "...                  ...  \n",
      "564199            271.71  \n",
      "564200            271.71  \n",
      "564201            271.71  \n",
      "564202            271.71  \n",
      "564203             65.19  \n",
      "\n",
      "[564204 rows x 11 columns]\n"
     ]
    }
   ],
   "source": [
    "df = pd.read_csv (r'C:\\Users\\cvolt\\Documents\\TU Delft\\Master\\Jaar 2\\Blok 1\\WM0824TU Economics of Cybersecurity\\underground_cyber\\feedbacks.csv')\n",
    "print (df)"
   ]
  },
  {
   "cell_type": "code",
   "execution_count": 10,
   "metadata": {},
   "outputs": [
    {
     "data": {
      "text/html": [
       "<div>\n",
       "<style scoped>\n",
       "    .dataframe tbody tr th:only-of-type {\n",
       "        vertical-align: middle;\n",
       "    }\n",
       "\n",
       "    .dataframe tbody tr th {\n",
       "        vertical-align: top;\n",
       "    }\n",
       "\n",
       "    .dataframe thead th {\n",
       "        text-align: right;\n",
       "    }\n",
       "</style>\n",
       "<table border=\"1\" class=\"dataframe\">\n",
       "  <thead>\n",
       "    <tr style=\"text-align: right;\">\n",
       "      <th></th>\n",
       "      <th>hash_str</th>\n",
       "      <th>category</th>\n",
       "      <th>marketplace</th>\n",
       "      <th>item_hash</th>\n",
       "      <th>date</th>\n",
       "      <th>giver_hash</th>\n",
       "      <th>receiver_hash</th>\n",
       "      <th>message</th>\n",
       "      <th>order_title</th>\n",
       "      <th>feedback_value</th>\n",
       "      <th>order_amount_usd</th>\n",
       "    </tr>\n",
       "  </thead>\n",
       "  <tbody>\n",
       "    <tr>\n",
       "      <th>0</th>\n",
       "      <td>eccd15d45510ce42400794e6f714c463</td>\n",
       "      <td>malware</td>\n",
       "      <td>Alphabay</td>\n",
       "      <td>011971e1a3a982cdd1f4bfa85b299b9e</td>\n",
       "      <td>2015-04-29</td>\n",
       "      <td>d8e1014c9e3c1649b8111557f928d93b</td>\n",
       "      <td>f848fa05a8b9e8f96e6dae9edd34a606</td>\n",
       "      <td>No comment</td>\n",
       "      <td>Bot Bundle - More than 150 different Bots</td>\n",
       "      <td>0.0</td>\n",
       "      <td>8.37</td>\n",
       "    </tr>\n",
       "    <tr>\n",
       "      <th>1</th>\n",
       "      <td>245b10f91e425118726326e25d795f05</td>\n",
       "      <td>malware</td>\n",
       "      <td>Alphabay</td>\n",
       "      <td>02135ec825483815cda83d2b50464860</td>\n",
       "      <td>2016-06-21</td>\n",
       "      <td>23fe762da44d498b4f16f92ca77eb296</td>\n",
       "      <td>fd4ba8c2e62e15b0612409540c6afb2e</td>\n",
       "      <td>No comment</td>\n",
       "      <td>Proxifier v. 3.29</td>\n",
       "      <td>0.0</td>\n",
       "      <td>7.00</td>\n",
       "    </tr>\n",
       "    <tr>\n",
       "      <th>2</th>\n",
       "      <td>6e6943496caeaac4cf8ed27cc7f5c99c</td>\n",
       "      <td>malware</td>\n",
       "      <td>Alphabay</td>\n",
       "      <td>02135ec825483815cda83d2b50464860</td>\n",
       "      <td>2016-05-12</td>\n",
       "      <td>1345dfdc59e68fce93d428444e99c9f1</td>\n",
       "      <td>fd4ba8c2e62e15b0612409540c6afb2e</td>\n",
       "      <td>Works like a charm ...</td>\n",
       "      <td>Proxifier v. 3.29</td>\n",
       "      <td>0.0</td>\n",
       "      <td>7.00</td>\n",
       "    </tr>\n",
       "    <tr>\n",
       "      <th>3</th>\n",
       "      <td>89b5e952f30a336bcf5a019033dba49e</td>\n",
       "      <td>malware</td>\n",
       "      <td>Alphabay</td>\n",
       "      <td>02135ec825483815cda83d2b50464860</td>\n",
       "      <td>2017-02-11</td>\n",
       "      <td>338d2467885a5168a0cb82b73e0c02a7</td>\n",
       "      <td>fd4ba8c2e62e15b0612409540c6afb2e</td>\n",
       "      <td>A++</td>\n",
       "      <td>Proxifier v. 3.29</td>\n",
       "      <td>0.0</td>\n",
       "      <td>7.00</td>\n",
       "    </tr>\n",
       "    <tr>\n",
       "      <th>4</th>\n",
       "      <td>b2ba7249464afb641a577f893ff8d1c3</td>\n",
       "      <td>malware</td>\n",
       "      <td>Alphabay</td>\n",
       "      <td>02135ec825483815cda83d2b50464860</td>\n",
       "      <td>2016-12-19</td>\n",
       "      <td>17f5fb0fbde6a3592b7c6e3772c53346</td>\n",
       "      <td>fd4ba8c2e62e15b0612409540c6afb2e</td>\n",
       "      <td>GG is just the best period!!!</td>\n",
       "      <td>Proxifier v. 3.29</td>\n",
       "      <td>0.0</td>\n",
       "      <td>7.00</td>\n",
       "    </tr>\n",
       "  </tbody>\n",
       "</table>\n",
       "</div>"
      ],
      "text/plain": [
       "                           hash_str category marketplace  \\\n",
       "0  eccd15d45510ce42400794e6f714c463  malware    Alphabay   \n",
       "1  245b10f91e425118726326e25d795f05  malware    Alphabay   \n",
       "2  6e6943496caeaac4cf8ed27cc7f5c99c  malware    Alphabay   \n",
       "3  89b5e952f30a336bcf5a019033dba49e  malware    Alphabay   \n",
       "4  b2ba7249464afb641a577f893ff8d1c3  malware    Alphabay   \n",
       "\n",
       "                          item_hash        date  \\\n",
       "0  011971e1a3a982cdd1f4bfa85b299b9e  2015-04-29   \n",
       "1  02135ec825483815cda83d2b50464860  2016-06-21   \n",
       "2  02135ec825483815cda83d2b50464860  2016-05-12   \n",
       "3  02135ec825483815cda83d2b50464860  2017-02-11   \n",
       "4  02135ec825483815cda83d2b50464860  2016-12-19   \n",
       "\n",
       "                         giver_hash                     receiver_hash  \\\n",
       "0  d8e1014c9e3c1649b8111557f928d93b  f848fa05a8b9e8f96e6dae9edd34a606   \n",
       "1  23fe762da44d498b4f16f92ca77eb296  fd4ba8c2e62e15b0612409540c6afb2e   \n",
       "2  1345dfdc59e68fce93d428444e99c9f1  fd4ba8c2e62e15b0612409540c6afb2e   \n",
       "3  338d2467885a5168a0cb82b73e0c02a7  fd4ba8c2e62e15b0612409540c6afb2e   \n",
       "4  17f5fb0fbde6a3592b7c6e3772c53346  fd4ba8c2e62e15b0612409540c6afb2e   \n",
       "\n",
       "                         message                                order_title  \\\n",
       "0                     No comment  Bot Bundle - More than 150 different Bots   \n",
       "1                     No comment                          Proxifier v. 3.29   \n",
       "2         Works like a charm ...                          Proxifier v. 3.29   \n",
       "3                            A++                          Proxifier v. 3.29   \n",
       "4  GG is just the best period!!!                          Proxifier v. 3.29   \n",
       "\n",
       "   feedback_value  order_amount_usd  \n",
       "0             0.0              8.37  \n",
       "1             0.0              7.00  \n",
       "2             0.0              7.00  \n",
       "3             0.0              7.00  \n",
       "4             0.0              7.00  "
      ]
     },
     "execution_count": 10,
     "metadata": {},
     "output_type": "execute_result"
    }
   ],
   "source": [
    "df.head()"
   ]
  },
  {
   "cell_type": "code",
   "execution_count": 11,
   "metadata": {},
   "outputs": [
    {
     "data": {
      "text/plain": [
       "Index(['hash_str', 'category', 'marketplace', 'item_hash', 'date',\n",
       "       'giver_hash', 'receiver_hash', 'message', 'order_title',\n",
       "       'feedback_value', 'order_amount_usd'],\n",
       "      dtype='object')"
      ]
     },
     "execution_count": 11,
     "metadata": {},
     "output_type": "execute_result"
    }
   ],
   "source": [
    "df.columns"
   ]
  },
  {
   "cell_type": "markdown",
   "metadata": {},
   "source": [
    "# First look at the category"
   ]
  },
  {
   "cell_type": "code",
   "execution_count": 12,
   "metadata": {},
   "outputs": [
    {
     "data": {
      "text/html": [
       "<div>\n",
       "<style scoped>\n",
       "    .dataframe tbody tr th:only-of-type {\n",
       "        vertical-align: middle;\n",
       "    }\n",
       "\n",
       "    .dataframe tbody tr th {\n",
       "        vertical-align: top;\n",
       "    }\n",
       "\n",
       "    .dataframe thead th {\n",
       "        text-align: right;\n",
       "    }\n",
       "</style>\n",
       "<table border=\"1\" class=\"dataframe\">\n",
       "  <thead>\n",
       "    <tr style=\"text-align: right;\">\n",
       "      <th></th>\n",
       "      <th>feedback_value</th>\n",
       "      <th>order_amount_usd</th>\n",
       "    </tr>\n",
       "    <tr>\n",
       "      <th>category</th>\n",
       "      <th></th>\n",
       "      <th></th>\n",
       "    </tr>\n",
       "  </thead>\n",
       "  <tbody>\n",
       "    <tr>\n",
       "      <th>RAT</th>\n",
       "      <td>1298.0</td>\n",
       "      <td>1.607028e+04</td>\n",
       "    </tr>\n",
       "    <tr>\n",
       "      <th>app</th>\n",
       "      <td>2213.0</td>\n",
       "      <td>1.281546e+04</td>\n",
       "    </tr>\n",
       "    <tr>\n",
       "      <th>botnet</th>\n",
       "      <td>2218.0</td>\n",
       "      <td>4.690420e+04</td>\n",
       "    </tr>\n",
       "    <tr>\n",
       "      <th>cash-out</th>\n",
       "      <td>279810.0</td>\n",
       "      <td>7.864318e+06</td>\n",
       "    </tr>\n",
       "    <tr>\n",
       "      <th>e-mail</th>\n",
       "      <td>4537.0</td>\n",
       "      <td>9.728035e+04</td>\n",
       "    </tr>\n",
       "    <tr>\n",
       "      <th>exploits</th>\n",
       "      <td>3137.0</td>\n",
       "      <td>1.760280e+04</td>\n",
       "    </tr>\n",
       "    <tr>\n",
       "      <th>hosting</th>\n",
       "      <td>311.0</td>\n",
       "      <td>1.182360e+03</td>\n",
       "    </tr>\n",
       "    <tr>\n",
       "      <th>malware</th>\n",
       "      <td>4737.0</td>\n",
       "      <td>5.759837e+04</td>\n",
       "    </tr>\n",
       "    <tr>\n",
       "      <th>other</th>\n",
       "      <td>159280.0</td>\n",
       "      <td>7.749789e+06</td>\n",
       "    </tr>\n",
       "    <tr>\n",
       "      <th>other - account</th>\n",
       "      <td>85266.0</td>\n",
       "      <td>5.984912e+05</td>\n",
       "    </tr>\n",
       "    <tr>\n",
       "      <th>other - custom</th>\n",
       "      <td>23854.0</td>\n",
       "      <td>5.793064e+06</td>\n",
       "    </tr>\n",
       "    <tr>\n",
       "      <th>other - fake</th>\n",
       "      <td>36956.0</td>\n",
       "      <td>2.877185e+06</td>\n",
       "    </tr>\n",
       "    <tr>\n",
       "      <th>other - guide</th>\n",
       "      <td>106812.0</td>\n",
       "      <td>2.620635e+06</td>\n",
       "    </tr>\n",
       "    <tr>\n",
       "      <th>other - pirated software</th>\n",
       "      <td>33331.0</td>\n",
       "      <td>1.299614e+05</td>\n",
       "    </tr>\n",
       "    <tr>\n",
       "      <th>other - voucher/invite/codes/lottery/gift</th>\n",
       "      <td>48066.0</td>\n",
       "      <td>7.531166e+05</td>\n",
       "    </tr>\n",
       "    <tr>\n",
       "      <th>phone</th>\n",
       "      <td>4625.0</td>\n",
       "      <td>7.458669e+04</td>\n",
       "    </tr>\n",
       "    <tr>\n",
       "      <th>website</th>\n",
       "      <td>10365.0</td>\n",
       "      <td>2.864053e+05</td>\n",
       "    </tr>\n",
       "  </tbody>\n",
       "</table>\n",
       "</div>"
      ],
      "text/plain": [
       "                                           feedback_value  order_amount_usd\n",
       "category                                                                   \n",
       "RAT                                                1298.0      1.607028e+04\n",
       "app                                                2213.0      1.281546e+04\n",
       "botnet                                             2218.0      4.690420e+04\n",
       "cash-out                                         279810.0      7.864318e+06\n",
       "e-mail                                             4537.0      9.728035e+04\n",
       "exploits                                           3137.0      1.760280e+04\n",
       "hosting                                             311.0      1.182360e+03\n",
       "malware                                            4737.0      5.759837e+04\n",
       "other                                            159280.0      7.749789e+06\n",
       "other - account                                   85266.0      5.984912e+05\n",
       "other - custom                                    23854.0      5.793064e+06\n",
       "other - fake                                      36956.0      2.877185e+06\n",
       "other - guide                                    106812.0      2.620635e+06\n",
       "other - pirated software                          33331.0      1.299614e+05\n",
       "other - voucher/invite/codes/lottery/gift         48066.0      7.531166e+05\n",
       "phone                                              4625.0      7.458669e+04\n",
       "website                                           10365.0      2.864053e+05"
      ]
     },
     "execution_count": 12,
     "metadata": {},
     "output_type": "execute_result"
    }
   ],
   "source": [
    "df.groupby(by = ['category']).sum()"
   ]
  },
  {
   "cell_type": "markdown",
   "metadata": {},
   "source": [
    "As can be seen in the figure below most feedback was given on the cash-out category. The least feedback was given on the categories RAT and hosting."
   ]
  },
  {
   "cell_type": "code",
   "execution_count": 13,
   "metadata": {},
   "outputs": [
    {
     "data": {
      "image/png": "[encoded data removed]",
      "text/plain": [
       "<Figure size 432x252 with 1 Axes>"
      ]
     },
     "metadata": {
      "needs_background": "light"
     },
     "output_type": "display_data"
    }
   ],
   "source": [
    "fig = df.category.value_counts().plot(kind = 'bar', title = 'Number of entered feedbacks/transactions(?)', figsize=(6,3.5), fontsize=10).get_figure()\n",
    "fig.savefig('test.jpg')"
   ]
  },
  {
   "cell_type": "markdown",
   "metadata": {},
   "source": [
    "There is no category which has a 5.0 as the average feedback value. The category with the highest value of the feedbacks is pirated software. Which would lead us to believe that people are most happy with this service."
   ]
  },
  {
   "cell_type": "code",
   "execution_count": 14,
   "metadata": {},
   "outputs": [
    {
     "data": {
      "text/plain": [
       "<matplotlib.axes._subplots.AxesSubplot at 0x16f809ccc08>"
      ]
     },
     "execution_count": 14,
     "metadata": {},
     "output_type": "execute_result"
    },
    {
     "data": {
      "image/png": "[encoded data removed]",
      "text/plain": [
       "<Figure size 432x288 with 1 Axes>"
      ]
     },
     "metadata": {
      "needs_background": "light"
     },
     "output_type": "display_data"
    }
   ],
   "source": [
    "df.groupby(by = ['category']).mean().feedback_value.plot(kind = 'bar', title = 'Average feedback value per category')"
   ]
  },
  {
   "cell_type": "markdown",
   "metadata": {},
   "source": [
    "Most amounts per order lie somewhere around the 50usd. Only one category has a clear outlier here which is the category custom. It makes sense that this is more expensive since a custom service would require more time and effort thus leading to a higher price."
   ]
  },
  {
   "cell_type": "code",
   "execution_count": 15,
   "metadata": {},
   "outputs": [
    {
     "data": {
      "text/plain": [
       "<matplotlib.axes._subplots.AxesSubplot at 0x16f815c4b08>"
      ]
     },
     "execution_count": 15,
     "metadata": {},
     "output_type": "execute_result"
    },
    {
     "data": {
      "image/png": "[encoded data removed]",
      "text/plain": [
       "<Figure size 432x288 with 1 Axes>"
      ]
     },
     "metadata": {
      "needs_background": "light"
     },
     "output_type": "display_data"
    }
   ],
   "source": [
    "df.groupby(by = ['category']).mean().order_amount_usd.plot(kind = 'bar', title = 'Average amount per order (usd)')"
   ]
  },
  {
   "cell_type": "markdown",
   "metadata": {},
   "source": [
    "# First look at the marketplaces"
   ]
  },
  {
   "cell_type": "code",
   "execution_count": 16,
   "metadata": {},
   "outputs": [
    {
     "data": {
      "text/html": [
       "<div>\n",
       "<style scoped>\n",
       "    .dataframe tbody tr th:only-of-type {\n",
       "        vertical-align: middle;\n",
       "    }\n",
       "\n",
       "    .dataframe tbody tr th {\n",
       "        vertical-align: top;\n",
       "    }\n",
       "\n",
       "    .dataframe thead th {\n",
       "        text-align: right;\n",
       "    }\n",
       "</style>\n",
       "<table border=\"1\" class=\"dataframe\">\n",
       "  <thead>\n",
       "    <tr style=\"text-align: right;\">\n",
       "      <th></th>\n",
       "      <th>feedback_value</th>\n",
       "      <th>order_amount_usd</th>\n",
       "    </tr>\n",
       "    <tr>\n",
       "      <th>marketplace</th>\n",
       "      <th></th>\n",
       "      <th></th>\n",
       "    </tr>\n",
       "  </thead>\n",
       "  <tbody>\n",
       "    <tr>\n",
       "      <th>Agora</th>\n",
       "      <td>109659.0</td>\n",
       "      <td>1.818990e+06</td>\n",
       "    </tr>\n",
       "    <tr>\n",
       "      <th>Alphabay</th>\n",
       "      <td>0.0</td>\n",
       "      <td>1.303649e+07</td>\n",
       "    </tr>\n",
       "    <tr>\n",
       "      <th>Black Market Reloaded</th>\n",
       "      <td>0.0</td>\n",
       "      <td>6.851079e+05</td>\n",
       "    </tr>\n",
       "    <tr>\n",
       "      <th>Evolution</th>\n",
       "      <td>377446.0</td>\n",
       "      <td>6.125115e+06</td>\n",
       "    </tr>\n",
       "    <tr>\n",
       "      <th>Hydra</th>\n",
       "      <td>21976.0</td>\n",
       "      <td>2.422306e+05</td>\n",
       "    </tr>\n",
       "    <tr>\n",
       "      <th>Pandora</th>\n",
       "      <td>38096.0</td>\n",
       "      <td>3.943064e+05</td>\n",
       "    </tr>\n",
       "    <tr>\n",
       "      <th>Silk Road 1</th>\n",
       "      <td>259639.0</td>\n",
       "      <td>2.239430e+06</td>\n",
       "    </tr>\n",
       "    <tr>\n",
       "      <th>Silk Road 2</th>\n",
       "      <td>0.0</td>\n",
       "      <td>4.455336e+06</td>\n",
       "    </tr>\n",
       "  </tbody>\n",
       "</table>\n",
       "</div>"
      ],
      "text/plain": [
       "                       feedback_value  order_amount_usd\n",
       "marketplace                                            \n",
       "Agora                        109659.0      1.818990e+06\n",
       "Alphabay                          0.0      1.303649e+07\n",
       "Black Market Reloaded             0.0      6.851079e+05\n",
       "Evolution                    377446.0      6.125115e+06\n",
       "Hydra                         21976.0      2.422306e+05\n",
       "Pandora                       38096.0      3.943064e+05\n",
       "Silk Road 1                  259639.0      2.239430e+06\n",
       "Silk Road 2                       0.0      4.455336e+06"
      ]
     },
     "execution_count": 16,
     "metadata": {},
     "output_type": "execute_result"
    }
   ],
   "source": [
    "df.groupby(by = ['marketplace']).sum()"
   ]
  },
  {
   "cell_type": "code",
   "execution_count": 17,
   "metadata": {},
   "outputs": [
    {
     "data": {
      "text/plain": [
       "<matplotlib.axes._subplots.AxesSubplot at 0x16f817fc7c8>"
      ]
     },
     "execution_count": 17,
     "metadata": {},
     "output_type": "execute_result"
    },
    {
     "data": {
      "image/png": "[encoded data removed]",
      "text/plain": [
       "<Figure size 432x288 with 1 Axes>"
      ]
     },
     "metadata": {
      "needs_background": "light"
     },
     "output_type": "display_data"
    }
   ],
   "source": [
    "df.marketplace.value_counts().plot(kind = 'bar', title = 'Number of entered feedbacks/transactions(?) per marketplace')"
   ]
  },
  {
   "cell_type": "markdown",
   "metadata": {},
   "source": [
    "Is het een bepaald product met een slechte review? Zijn het een missende waarden? Of wordt het heel slecht beoordeeld?"
   ]
  },
  {
   "cell_type": "code",
   "execution_count": 18,
   "metadata": {},
   "outputs": [
    {
     "data": {
      "text/plain": [
       "<matplotlib.axes._subplots.AxesSubplot at 0x16f81871148>"
      ]
     },
     "execution_count": 18,
     "metadata": {},
     "output_type": "execute_result"
    },
    {
     "data": {
      "image/png": "[encoded data removed]",
      "text/plain": [
       "<Figure size 432x288 with 1 Axes>"
      ]
     },
     "metadata": {
      "needs_background": "light"
     },
     "output_type": "display_data"
    }
   ],
   "source": [
    "df.groupby(by = ['marketplace']).mean().feedback_value.plot(kind = 'bar', title = 'Average feedback value per marketplace')"
   ]
  },
  {
   "cell_type": "markdown",
   "metadata": {},
   "source": [
    "Alphabay, Black Market Reloaded en Silk Road 2 have a feedback value of 0 for all their transactions."
   ]
  },
  {
   "cell_type": "code",
   "execution_count": 19,
   "metadata": {},
   "outputs": [
    {
     "data": {
      "text/plain": [
       "array([0.])"
      ]
     },
     "execution_count": 19,
     "metadata": {},
     "output_type": "execute_result"
    }
   ],
   "source": [
    "df[df['marketplace'] == 'Alphabay'].feedback_value.unique()"
   ]
  },
  {
   "cell_type": "code",
   "execution_count": 20,
   "metadata": {},
   "outputs": [
    {
     "data": {
      "text/plain": [
       "array([0.])"
      ]
     },
     "execution_count": 20,
     "metadata": {},
     "output_type": "execute_result"
    }
   ],
   "source": [
    "df[df['marketplace'] == 'Black Market Reloaded'].feedback_value.unique()"
   ]
  },
  {
   "cell_type": "code",
   "execution_count": 21,
   "metadata": {},
   "outputs": [
    {
     "data": {
      "text/plain": [
       "array([0.])"
      ]
     },
     "execution_count": 21,
     "metadata": {},
     "output_type": "execute_result"
    }
   ],
   "source": [
    "df[df['marketplace'] == 'Silk Road 2'].feedback_value.unique()"
   ]
  },
  {
   "cell_type": "code",
   "execution_count": 22,
   "metadata": {},
   "outputs": [
    {
     "data": {
      "text/plain": [
       "<matplotlib.axes._subplots.AxesSubplot at 0x16f818f6388>"
      ]
     },
     "execution_count": 22,
     "metadata": {},
     "output_type": "execute_result"
    },
    {
     "data": {
      "image/png": "[encoded data removed]",
      "text/plain": [
       "<Figure size 432x288 with 1 Axes>"
      ]
     },
     "metadata": {
      "needs_background": "light"
     },
     "output_type": "display_data"
    }
   ],
   "source": [
    "df.groupby(by = ['marketplace']).mean().order_amount_usd.plot(kind = 'bar', title = 'Average amount per order (usd)')"
   ]
  },
  {
   "cell_type": "code",
   "execution_count": 23,
   "metadata": {},
   "outputs": [
    {
     "data": {
      "text/html": [
       "<div>\n",
       "<style scoped>\n",
       "    .dataframe tbody tr th:only-of-type {\n",
       "        vertical-align: middle;\n",
       "    }\n",
       "\n",
       "    .dataframe tbody tr th {\n",
       "        vertical-align: top;\n",
       "    }\n",
       "\n",
       "    .dataframe thead th {\n",
       "        text-align: right;\n",
       "    }\n",
       "</style>\n",
       "<table border=\"1\" class=\"dataframe\">\n",
       "  <thead>\n",
       "    <tr style=\"text-align: right;\">\n",
       "      <th></th>\n",
       "      <th>feedback_value</th>\n",
       "      <th>order_amount_usd</th>\n",
       "    </tr>\n",
       "    <tr>\n",
       "      <th>order_title</th>\n",
       "      <th></th>\n",
       "      <th></th>\n",
       "    </tr>\n",
       "  </thead>\n",
       "  <tbody>\n",
       "    <tr>\n",
       "      <th>Tekla Structures 17.0 Multilingual</th>\n",
       "      <td>5.0</td>\n",
       "      <td>28.730</td>\n",
       "    </tr>\n",
       "    <tr>\n",
       "      <th>$100 U.S. Federal Reserve Note (Hundred Dollars)</th>\n",
       "      <td>5.0</td>\n",
       "      <td>119.480</td>\n",
       "    </tr>\n",
       "    <tr>\n",
       "      <th>$100.00 Mailed to you Quickly and Discreetly</th>\n",
       "      <td>5.0</td>\n",
       "      <td>108.254</td>\n",
       "    </tr>\n",
       "    <tr>\n",
       "      <th>$40.00 Mailed to you Quickly and Discreetly</th>\n",
       "      <td>5.0</td>\n",
       "      <td>43.600</td>\n",
       "    </tr>\n",
       "    <tr>\n",
       "      <th>$80.00 Mailed to you Quickly and Discreetly</th>\n",
       "      <td>5.0</td>\n",
       "      <td>83.160</td>\n",
       "    </tr>\n",
       "    <tr>\n",
       "      <th>...</th>\n",
       "      <td>...</td>\n",
       "      <td>...</td>\n",
       "    </tr>\n",
       "    <tr>\n",
       "      <th>💎SCAM PAGES BLOCKCHAIN💎HQ★Phishing Pages★STORE★OFGREY★❷⓿❶❼TOP QUALITY★</th>\n",
       "      <td>0.0</td>\n",
       "      <td>10.560</td>\n",
       "    </tr>\n",
       "    <tr>\n",
       "      <th>💎SCAM PAGES PAYPAL💎 HQ★ 3 Models InCLuDeD ★STORE★OFGREY★❷⓿❶❼TOP QUALITY★</th>\n",
       "      <td>0.0</td>\n",
       "      <td>13.760</td>\n",
       "    </tr>\n",
       "    <tr>\n",
       "      <th>💎SCAM PAGES Phishing PAYPAL💎 HQ ★STORE★OFGREY★❷⓿❶❼</th>\n",
       "      <td>0.0</td>\n",
       "      <td>9.890</td>\n",
       "    </tr>\n",
       "    <tr>\n",
       "      <th>💥 ID &amp; Passport scans ★ PSD Editable ★ 2500+ items ★ Passports ★ IDs ★ Bills &amp; Forms ★ Certificates &amp; Diplomas ★ HQ ★</th>\n",
       "      <td>0.0</td>\n",
       "      <td>2.600</td>\n",
       "    </tr>\n",
       "    <tr>\n",
       "      <th>😊  😘  😍  900 SEO &amp; INTERNET MARKETING Softwares, WP PLUGINS, BLACK-HAT / WHITE-HAT softwares and Tools for make MAKE MONEY ONLINE 😏  😃 😎</th>\n",
       "      <td>0.0</td>\n",
       "      <td>1.990</td>\n",
       "    </tr>\n",
       "  </tbody>\n",
       "</table>\n",
       "<p>42276 rows × 2 columns</p>\n",
       "</div>"
      ],
      "text/plain": [
       "                                                    feedback_value  \\\n",
       "order_title                                                          \n",
       "  Tekla Structures 17.0 Multilingual                           5.0   \n",
       " $100 U.S. Federal Reserve Note (Hundred Dollars)              5.0   \n",
       " $100.00 Mailed to you Quickly and Discreetly                  5.0   \n",
       " $40.00 Mailed to you Quickly and Discreetly                   5.0   \n",
       " $80.00 Mailed to you Quickly and Discreetly                   5.0   \n",
       "...                                                            ...   \n",
       "💎SCAM PAGES BLOCKCHAIN💎HQ★Phishing Pages★STORE★...             0.0   \n",
       "💎SCAM PAGES PAYPAL💎 HQ★ 3 Models InCLuDeD ★STOR...             0.0   \n",
       "💎SCAM PAGES Phishing PAYPAL💎 HQ ★STORE★OFGREY★❷⓿❶❼             0.0   \n",
       "💥 ID & Passport scans ★ PSD Editable ★ 2500+ it...             0.0   \n",
       "😊  😘  😍  900 SEO & INTERNET MARKETING Softwares...             0.0   \n",
       "\n",
       "                                                    order_amount_usd  \n",
       "order_title                                                           \n",
       "  Tekla Structures 17.0 Multilingual                          28.730  \n",
       " $100 U.S. Federal Reserve Note (Hundred Dollars)            119.480  \n",
       " $100.00 Mailed to you Quickly and Discreetly                108.254  \n",
       " $40.00 Mailed to you Quickly and Discreetly                  43.600  \n",
       " $80.00 Mailed to you Quickly and Discreetly                  83.160  \n",
       "...                                                              ...  \n",
       "💎SCAM PAGES BLOCKCHAIN💎HQ★Phishing Pages★STORE★...            10.560  \n",
       "💎SCAM PAGES PAYPAL💎 HQ★ 3 Models InCLuDeD ★STOR...            13.760  \n",
       "💎SCAM PAGES Phishing PAYPAL💎 HQ ★STORE★OFGREY★❷⓿❶❼             9.890  \n",
       "💥 ID & Passport scans ★ PSD Editable ★ 2500+ it...             2.600  \n",
       "😊  😘  😍  900 SEO & INTERNET MARKETING Softwares...             1.990  \n",
       "\n",
       "[42276 rows x 2 columns]"
      ]
     },
     "execution_count": 23,
     "metadata": {},
     "output_type": "execute_result"
    }
   ],
   "source": [
    "df.groupby(by = ['order_title']).mean()"
   ]
  },
  {
   "cell_type": "code",
   "execution_count": 27,
   "metadata": {},
   "outputs": [
    {
     "data": {
      "text/html": [
       "<div>\n",
       "<style scoped>\n",
       "    .dataframe tbody tr th:only-of-type {\n",
       "        vertical-align: middle;\n",
       "    }\n",
       "\n",
       "    .dataframe tbody tr th {\n",
       "        vertical-align: top;\n",
       "    }\n",
       "\n",
       "    .dataframe thead th {\n",
       "        text-align: right;\n",
       "    }\n",
       "</style>\n",
       "<table border=\"1\" class=\"dataframe\">\n",
       "  <thead>\n",
       "    <tr style=\"text-align: right;\">\n",
       "      <th></th>\n",
       "      <th></th>\n",
       "      <th>feedback_value</th>\n",
       "      <th>order_amount_usd</th>\n",
       "    </tr>\n",
       "    <tr>\n",
       "      <th>marketplace</th>\n",
       "      <th>category</th>\n",
       "      <th></th>\n",
       "      <th></th>\n",
       "    </tr>\n",
       "  </thead>\n",
       "  <tbody>\n",
       "    <tr>\n",
       "      <th rowspan=\"5\" valign=\"top\">Agora</th>\n",
       "      <th>RAT</th>\n",
       "      <td>5.000000</td>\n",
       "      <td>160.613333</td>\n",
       "    </tr>\n",
       "    <tr>\n",
       "      <th>app</th>\n",
       "      <td>4.714286</td>\n",
       "      <td>2.547429</td>\n",
       "    </tr>\n",
       "    <tr>\n",
       "      <th>botnet</th>\n",
       "      <td>4.975904</td>\n",
       "      <td>27.099398</td>\n",
       "    </tr>\n",
       "    <tr>\n",
       "      <th>cash-out</th>\n",
       "      <td>4.841533</td>\n",
       "      <td>75.492286</td>\n",
       "    </tr>\n",
       "    <tr>\n",
       "      <th>e-mail</th>\n",
       "      <td>5.000000</td>\n",
       "      <td>30.537500</td>\n",
       "    </tr>\n",
       "    <tr>\n",
       "      <th>...</th>\n",
       "      <th>...</th>\n",
       "      <td>...</td>\n",
       "      <td>...</td>\n",
       "    </tr>\n",
       "    <tr>\n",
       "      <th rowspan=\"5\" valign=\"top\">Silk Road 2</th>\n",
       "      <th>other - guide</th>\n",
       "      <td>0.000000</td>\n",
       "      <td>103.333007</td>\n",
       "    </tr>\n",
       "    <tr>\n",
       "      <th>other - pirated software</th>\n",
       "      <td>0.000000</td>\n",
       "      <td>19.396460</td>\n",
       "    </tr>\n",
       "    <tr>\n",
       "      <th>other - voucher/invite/codes/lottery/gift</th>\n",
       "      <td>0.000000</td>\n",
       "      <td>62.116430</td>\n",
       "    </tr>\n",
       "    <tr>\n",
       "      <th>phone</th>\n",
       "      <td>0.000000</td>\n",
       "      <td>33.259350</td>\n",
       "    </tr>\n",
       "    <tr>\n",
       "      <th>website</th>\n",
       "      <td>0.000000</td>\n",
       "      <td>148.126447</td>\n",
       "    </tr>\n",
       "  </tbody>\n",
       "</table>\n",
       "<p>129 rows × 2 columns</p>\n",
       "</div>"
      ],
      "text/plain": [
       "                                                       feedback_value  \\\n",
       "marketplace category                                                    \n",
       "Agora       RAT                                              5.000000   \n",
       "            app                                              4.714286   \n",
       "            botnet                                           4.975904   \n",
       "            cash-out                                         4.841533   \n",
       "            e-mail                                           5.000000   \n",
       "...                                                               ...   \n",
       "Silk Road 2 other - guide                                    0.000000   \n",
       "            other - pirated software                         0.000000   \n",
       "            other - voucher/invite/codes/lottery/gift        0.000000   \n",
       "            phone                                            0.000000   \n",
       "            website                                          0.000000   \n",
       "\n",
       "                                                       order_amount_usd  \n",
       "marketplace category                                                     \n",
       "Agora       RAT                                              160.613333  \n",
       "            app                                                2.547429  \n",
       "            botnet                                            27.099398  \n",
       "            cash-out                                          75.492286  \n",
       "            e-mail                                            30.537500  \n",
       "...                                                                 ...  \n",
       "Silk Road 2 other - guide                                    103.333007  \n",
       "            other - pirated software                          19.396460  \n",
       "            other - voucher/invite/codes/lottery/gift         62.116430  \n",
       "            phone                                             33.259350  \n",
       "            website                                          148.126447  \n",
       "\n",
       "[129 rows x 2 columns]"
      ]
     },
     "execution_count": 27,
     "metadata": {},
     "output_type": "execute_result"
    }
   ],
   "source": [
    "df.groupby(by = ['marketplace', 'category']).mean()"
   ]
  },
  {
   "cell_type": "code",
   "execution_count": 31,
   "metadata": {},
   "outputs": [],
   "source": [
    "df2 = df.groupby(by = ['marketplace', 'category']).mean()."
   ]
  },
  {
   "cell_type": "code",
   "execution_count": 78,
   "metadata": {},
   "outputs": [
    {
     "data": {
      "text/plain": [
       "<matplotlib.legend.Legend at 0x16f875b7308>"
      ]
     },
     "execution_count": 78,
     "metadata": {},
     "output_type": "execute_result"
    },
    {
     "data": {
      "image/png": "[encoded data removed]",
      "text/plain": [
       "<Figure size 432x288 with 1 Axes>"
      ]
     },
     "metadata": {
      "needs_background": "light"
     },
     "output_type": "display_data"
    }
   ],
   "source": [
    "import matplotlib.pyplot as plt\n",
    "df2 = df.groupby(by = ['category', 'marketplace']).mean().unstack().feedback_value\n",
    "df2.plot(kind = 'line', title = \"Feedback value per category per marketplace\")\n",
    "plt.xticks(rotation=45)\n",
    "plt.legend(loc = 'upper right', bbox_to_anchor=(1.5, 1.05))"
   ]
  },
  {
   "cell_type": "code",
   "execution_count": 66,
   "metadata": {},
   "outputs": [
    {
     "data": {
      "text/plain": [
       "<matplotlib.legend.Legend at 0x16f8724ec48>"
      ]
     },
     "execution_count": 66,
     "metadata": {},
     "output_type": "execute_result"
    },
    {
     "data": {
      "image/png": "[encoded data removed]",
      "text/plain": [
       "<Figure size 432x288 with 1 Axes>"
      ]
     },
     "metadata": {
      "needs_background": "light"
     },
     "output_type": "display_data"
    }
   ],
   "source": [
    "df2 = df.groupby(by = ['category', 'marketplace']).mean().unstack().order_amount_usd\n",
    "df2.plot(kind = 'line', title = \"Order amount (usd) per marketplace\")\n",
    "plt.xticks(rotation=45)\n",
    "plt.legend(loc = 'upper right', bbox_to_anchor=(1.5, 1.05))"
   ]
  },
  {
   "cell_type": "code",
   "execution_count": 67,
   "metadata": {},
   "outputs": [
    {
     "data": {
      "text/html": [
       "<div>\n",
       "<style scoped>\n",
       "    .dataframe tbody tr th:only-of-type {\n",
       "        vertical-align: middle;\n",
       "    }\n",
       "\n",
       "    .dataframe tbody tr th {\n",
       "        vertical-align: top;\n",
       "    }\n",
       "\n",
       "    .dataframe thead th {\n",
       "        text-align: right;\n",
       "    }\n",
       "</style>\n",
       "<table border=\"1\" class=\"dataframe\">\n",
       "  <thead>\n",
       "    <tr style=\"text-align: right;\">\n",
       "      <th>marketplace</th>\n",
       "      <th>Agora</th>\n",
       "      <th>Alphabay</th>\n",
       "      <th>Black Market Reloaded</th>\n",
       "      <th>Evolution</th>\n",
       "      <th>Hydra</th>\n",
       "      <th>Pandora</th>\n",
       "      <th>Silk Road 1</th>\n",
       "      <th>Silk Road 2</th>\n",
       "    </tr>\n",
       "    <tr>\n",
       "      <th>category</th>\n",
       "      <th></th>\n",
       "      <th></th>\n",
       "      <th></th>\n",
       "      <th></th>\n",
       "      <th></th>\n",
       "      <th></th>\n",
       "      <th></th>\n",
       "      <th></th>\n",
       "    </tr>\n",
       "  </thead>\n",
       "  <tbody>\n",
       "    <tr>\n",
       "      <th>RAT</th>\n",
       "      <td>160.613333</td>\n",
       "      <td>16.553247</td>\n",
       "      <td>8.854000</td>\n",
       "      <td>8.601818</td>\n",
       "      <td>20.000000</td>\n",
       "      <td>31.690000</td>\n",
       "      <td>34.713516</td>\n",
       "      <td>NaN</td>\n",
       "    </tr>\n",
       "    <tr>\n",
       "      <th>app</th>\n",
       "      <td>2.547429</td>\n",
       "      <td>12.995674</td>\n",
       "      <td>76.841905</td>\n",
       "      <td>5.095391</td>\n",
       "      <td>12.500000</td>\n",
       "      <td>15.174783</td>\n",
       "      <td>6.511792</td>\n",
       "      <td>5.439733</td>\n",
       "    </tr>\n",
       "    <tr>\n",
       "      <th>botnet</th>\n",
       "      <td>27.099398</td>\n",
       "      <td>27.784401</td>\n",
       "      <td>45.134286</td>\n",
       "      <td>117.849137</td>\n",
       "      <td>20.000000</td>\n",
       "      <td>NaN</td>\n",
       "      <td>9.430773</td>\n",
       "      <td>39.693333</td>\n",
       "    </tr>\n",
       "    <tr>\n",
       "      <th>cash-out</th>\n",
       "      <td>75.492286</td>\n",
       "      <td>24.880647</td>\n",
       "      <td>32.970624</td>\n",
       "      <td>46.992280</td>\n",
       "      <td>53.743108</td>\n",
       "      <td>21.899724</td>\n",
       "      <td>31.235479</td>\n",
       "      <td>82.458830</td>\n",
       "    </tr>\n",
       "    <tr>\n",
       "      <th>e-mail</th>\n",
       "      <td>30.537500</td>\n",
       "      <td>12.072623</td>\n",
       "      <td>7.238980</td>\n",
       "      <td>29.345906</td>\n",
       "      <td>234.007634</td>\n",
       "      <td>0.782667</td>\n",
       "      <td>7.665685</td>\n",
       "      <td>NaN</td>\n",
       "    </tr>\n",
       "    <tr>\n",
       "      <th>exploits</th>\n",
       "      <td>17.410667</td>\n",
       "      <td>11.921581</td>\n",
       "      <td>5.793600</td>\n",
       "      <td>11.267261</td>\n",
       "      <td>NaN</td>\n",
       "      <td>2.605385</td>\n",
       "      <td>9.721983</td>\n",
       "      <td>102.967143</td>\n",
       "    </tr>\n",
       "    <tr>\n",
       "      <th>hosting</th>\n",
       "      <td>6.915000</td>\n",
       "      <td>9.011915</td>\n",
       "      <td>43.333333</td>\n",
       "      <td>15.925294</td>\n",
       "      <td>NaN</td>\n",
       "      <td>NaN</td>\n",
       "      <td>6.749804</td>\n",
       "      <td>NaN</td>\n",
       "    </tr>\n",
       "    <tr>\n",
       "      <th>malware</th>\n",
       "      <td>6.300588</td>\n",
       "      <td>30.633079</td>\n",
       "      <td>25.323556</td>\n",
       "      <td>26.202193</td>\n",
       "      <td>27.800000</td>\n",
       "      <td>9.509000</td>\n",
       "      <td>1.717200</td>\n",
       "      <td>48.315000</td>\n",
       "    </tr>\n",
       "    <tr>\n",
       "      <th>other</th>\n",
       "      <td>122.135552</td>\n",
       "      <td>102.800318</td>\n",
       "      <td>176.448576</td>\n",
       "      <td>53.422758</td>\n",
       "      <td>71.462011</td>\n",
       "      <td>82.420807</td>\n",
       "      <td>82.842803</td>\n",
       "      <td>109.188535</td>\n",
       "    </tr>\n",
       "    <tr>\n",
       "      <th>other - account</th>\n",
       "      <td>9.810061</td>\n",
       "      <td>7.427915</td>\n",
       "      <td>19.762343</td>\n",
       "      <td>6.321335</td>\n",
       "      <td>6.137755</td>\n",
       "      <td>5.962072</td>\n",
       "      <td>7.878859</td>\n",
       "      <td>10.034136</td>\n",
       "    </tr>\n",
       "    <tr>\n",
       "      <th>other - custom</th>\n",
       "      <td>473.504667</td>\n",
       "      <td>275.769618</td>\n",
       "      <td>291.821966</td>\n",
       "      <td>302.406760</td>\n",
       "      <td>125.158273</td>\n",
       "      <td>257.830252</td>\n",
       "      <td>148.379868</td>\n",
       "      <td>527.261122</td>\n",
       "    </tr>\n",
       "    <tr>\n",
       "      <th>other - fake</th>\n",
       "      <td>152.841271</td>\n",
       "      <td>69.786167</td>\n",
       "      <td>115.825451</td>\n",
       "      <td>59.850255</td>\n",
       "      <td>201.515465</td>\n",
       "      <td>184.882342</td>\n",
       "      <td>113.606387</td>\n",
       "      <td>135.375210</td>\n",
       "    </tr>\n",
       "    <tr>\n",
       "      <th>other - guide</th>\n",
       "      <td>6.875281</td>\n",
       "      <td>24.774524</td>\n",
       "      <td>17.612082</td>\n",
       "      <td>23.029643</td>\n",
       "      <td>13.313744</td>\n",
       "      <td>6.282448</td>\n",
       "      <td>4.529611</td>\n",
       "      <td>103.333007</td>\n",
       "    </tr>\n",
       "    <tr>\n",
       "      <th>other - pirated software</th>\n",
       "      <td>9.423480</td>\n",
       "      <td>15.810165</td>\n",
       "      <td>63.568454</td>\n",
       "      <td>7.882173</td>\n",
       "      <td>30.175439</td>\n",
       "      <td>3.776942</td>\n",
       "      <td>6.150366</td>\n",
       "      <td>19.396460</td>\n",
       "    </tr>\n",
       "    <tr>\n",
       "      <th>other - voucher/invite/codes/lottery/gift</th>\n",
       "      <td>43.467593</td>\n",
       "      <td>30.553924</td>\n",
       "      <td>66.420931</td>\n",
       "      <td>31.485981</td>\n",
       "      <td>6.275000</td>\n",
       "      <td>22.432946</td>\n",
       "      <td>13.803547</td>\n",
       "      <td>62.116430</td>\n",
       "    </tr>\n",
       "    <tr>\n",
       "      <th>phone</th>\n",
       "      <td>8.007200</td>\n",
       "      <td>41.666362</td>\n",
       "      <td>11.856296</td>\n",
       "      <td>16.357368</td>\n",
       "      <td>53.152632</td>\n",
       "      <td>6.474828</td>\n",
       "      <td>3.376070</td>\n",
       "      <td>33.259350</td>\n",
       "    </tr>\n",
       "    <tr>\n",
       "      <th>website</th>\n",
       "      <td>26.114093</td>\n",
       "      <td>42.391737</td>\n",
       "      <td>31.598571</td>\n",
       "      <td>8.594064</td>\n",
       "      <td>10.028986</td>\n",
       "      <td>12.997826</td>\n",
       "      <td>15.763711</td>\n",
       "      <td>148.126447</td>\n",
       "    </tr>\n",
       "  </tbody>\n",
       "</table>\n",
       "</div>"
      ],
      "text/plain": [
       "marketplace                                     Agora    Alphabay  \\\n",
       "category                                                            \n",
       "RAT                                        160.613333   16.553247   \n",
       "app                                          2.547429   12.995674   \n",
       "botnet                                      27.099398   27.784401   \n",
       "cash-out                                    75.492286   24.880647   \n",
       "e-mail                                      30.537500   12.072623   \n",
       "exploits                                    17.410667   11.921581   \n",
       "hosting                                      6.915000    9.011915   \n",
       "malware                                      6.300588   30.633079   \n",
       "other                                      122.135552  102.800318   \n",
       "other - account                              9.810061    7.427915   \n",
       "other - custom                             473.504667  275.769618   \n",
       "other - fake                               152.841271   69.786167   \n",
       "other - guide                                6.875281   24.774524   \n",
       "other - pirated software                     9.423480   15.810165   \n",
       "other - voucher/invite/codes/lottery/gift   43.467593   30.553924   \n",
       "phone                                        8.007200   41.666362   \n",
       "website                                     26.114093   42.391737   \n",
       "\n",
       "marketplace                                Black Market Reloaded   Evolution  \\\n",
       "category                                                                       \n",
       "RAT                                                     8.854000    8.601818   \n",
       "app                                                    76.841905    5.095391   \n",
       "botnet                                                 45.134286  117.849137   \n",
       "cash-out                                               32.970624   46.992280   \n",
       "e-mail                                                  7.238980   29.345906   \n",
       "exploits                                                5.793600   11.267261   \n",
       "hosting                                                43.333333   15.925294   \n",
       "malware                                                25.323556   26.202193   \n",
       "other                                                 176.448576   53.422758   \n",
       "other - account                                        19.762343    6.321335   \n",
       "other - custom                                        291.821966  302.406760   \n",
       "other - fake                                          115.825451   59.850255   \n",
       "other - guide                                          17.612082   23.029643   \n",
       "other - pirated software                               63.568454    7.882173   \n",
       "other - voucher/invite/codes/lottery/gift              66.420931   31.485981   \n",
       "phone                                                  11.856296   16.357368   \n",
       "website                                                31.598571    8.594064   \n",
       "\n",
       "marketplace                                     Hydra     Pandora  \\\n",
       "category                                                            \n",
       "RAT                                         20.000000   31.690000   \n",
       "app                                         12.500000   15.174783   \n",
       "botnet                                      20.000000         NaN   \n",
       "cash-out                                    53.743108   21.899724   \n",
       "e-mail                                     234.007634    0.782667   \n",
       "exploits                                          NaN    2.605385   \n",
       "hosting                                           NaN         NaN   \n",
       "malware                                     27.800000    9.509000   \n",
       "other                                       71.462011   82.420807   \n",
       "other - account                              6.137755    5.962072   \n",
       "other - custom                             125.158273  257.830252   \n",
       "other - fake                               201.515465  184.882342   \n",
       "other - guide                               13.313744    6.282448   \n",
       "other - pirated software                    30.175439    3.776942   \n",
       "other - voucher/invite/codes/lottery/gift    6.275000   22.432946   \n",
       "phone                                       53.152632    6.474828   \n",
       "website                                     10.028986   12.997826   \n",
       "\n",
       "marketplace                                Silk Road 1  Silk Road 2  \n",
       "category                                                             \n",
       "RAT                                          34.713516          NaN  \n",
       "app                                           6.511792     5.439733  \n",
       "botnet                                        9.430773    39.693333  \n",
       "cash-out                                     31.235479    82.458830  \n",
       "e-mail                                        7.665685          NaN  \n",
       "exploits                                      9.721983   102.967143  \n",
       "hosting                                       6.749804          NaN  \n",
       "malware                                       1.717200    48.315000  \n",
       "other                                        82.842803   109.188535  \n",
       "other - account                               7.878859    10.034136  \n",
       "other - custom                              148.379868   527.261122  \n",
       "other - fake                                113.606387   135.375210  \n",
       "other - guide                                 4.529611   103.333007  \n",
       "other - pirated software                      6.150366    19.396460  \n",
       "other - voucher/invite/codes/lottery/gift    13.803547    62.116430  \n",
       "phone                                         3.376070    33.259350  \n",
       "website                                      15.763711   148.126447  "
      ]
     },
     "execution_count": 67,
     "metadata": {},
     "output_type": "execute_result"
    }
   ],
   "source": [
    "df2"
   ]
  },
  {
   "cell_type": "code",
   "execution_count": 79,
   "metadata": {},
   "outputs": [],
   "source": [
    "df2 = df2.rename(index = {'other - voucher/invite/codes/lottery/gift' : 'other - voucher'})"
   ]
  },
  {
   "cell_type": "code",
   "execution_count": 80,
   "metadata": {},
   "outputs": [
    {
     "data": {
      "text/plain": [
       "<matplotlib.legend.Legend at 0x16f876f2f88>"
      ]
     },
     "execution_count": 80,
     "metadata": {},
     "output_type": "execute_result"
    },
    {
     "data": {
      "image/png": "[encoded data removed]",
      "text/plain": [
       "<Figure size 432x288 with 1 Axes>"
      ]
     },
     "metadata": {
      "needs_background": "light"
     },
     "output_type": "display_data"
    }
   ],
   "source": [
    "df2.plot(kind = 'line', title = \"Feedback value per category per marketplace\")\n",
    "plt.xticks(rotation=45)\n",
    "plt.legend(loc = 'upper right', bbox_to_anchor=(1.5, 1.05))"
   ]
  },
  {
   "cell_type": "code",
   "execution_count": 81,
   "metadata": {},
   "outputs": [
    {
     "data": {
      "text/plain": [
       "<matplotlib.legend.Legend at 0x16f8771b608>"
      ]
     },
     "execution_count": 81,
     "metadata": {},
     "output_type": "execute_result"
    },
    {
     "data": {
      "image/png": "[encoded data removed]",
      "text/plain": [
       "<Figure size 432x288 with 1 Axes>"
      ]
     },
     "metadata": {
      "needs_background": "light"
     },
     "output_type": "display_data"
    }
   ],
   "source": [
    "df3 = df.groupby(by = ['category', 'marketplace']).mean().unstack().order_amount_usd\n",
    "df3 = df3.rename(index = {'other - voucher/invite/codes/lottery/gift' : 'other - voucher'})\n",
    "df3.plot(kind = 'line', title = \"Order amount (usd) per marketplace\")\n",
    "plt.xticks(rotation=45)\n",
    "plt.legend(loc = 'upper right', bbox_to_anchor=(1.5, 1.05))"
   ]
  },
  {
   "cell_type": "markdown",
   "metadata": {},
   "source": [
    "The marketplace Pandora has no transactions in the category botnet and in hosting."
   ]
  },
  {
   "cell_type": "code",
   "execution_count": 87,
   "metadata": {},
   "outputs": [
    {
     "name": "stderr",
     "output_type": "stream",
     "text": [
      "C:\\Users\\cvolt\\anaconda3\\lib\\site-packages\\ipykernel_launcher.py:1: UserWarning: Boolean Series key will be reindexed to match DataFrame index.\n",
      "  \"\"\"Entry point for launching an IPython kernel.\n"
     ]
    },
    {
     "data": {
      "text/html": [
       "<div>\n",
       "<style scoped>\n",
       "    .dataframe tbody tr th:only-of-type {\n",
       "        vertical-align: middle;\n",
       "    }\n",
       "\n",
       "    .dataframe tbody tr th {\n",
       "        vertical-align: top;\n",
       "    }\n",
       "\n",
       "    .dataframe thead th {\n",
       "        text-align: right;\n",
       "    }\n",
       "</style>\n",
       "<table border=\"1\" class=\"dataframe\">\n",
       "  <thead>\n",
       "    <tr style=\"text-align: right;\">\n",
       "      <th></th>\n",
       "      <th>hash_str</th>\n",
       "      <th>category</th>\n",
       "      <th>marketplace</th>\n",
       "      <th>item_hash</th>\n",
       "      <th>date</th>\n",
       "      <th>giver_hash</th>\n",
       "      <th>receiver_hash</th>\n",
       "      <th>message</th>\n",
       "      <th>order_title</th>\n",
       "      <th>feedback_value</th>\n",
       "      <th>order_amount_usd</th>\n",
       "    </tr>\n",
       "  </thead>\n",
       "  <tbody>\n",
       "  </tbody>\n",
       "</table>\n",
       "</div>"
      ],
      "text/plain": [
       "Empty DataFrame\n",
       "Columns: [hash_str, category, marketplace, item_hash, date, giver_hash, receiver_hash, message, order_title, feedback_value, order_amount_usd]\n",
       "Index: []"
      ]
     },
     "execution_count": 87,
     "metadata": {},
     "output_type": "execute_result"
    }
   ],
   "source": [
    "df[df['marketplace'] == 'Pandora'][df['category']=='botnet']"
   ]
  },
  {
   "cell_type": "code",
   "execution_count": 88,
   "metadata": {},
   "outputs": [
    {
     "name": "stderr",
     "output_type": "stream",
     "text": [
      "C:\\Users\\cvolt\\anaconda3\\lib\\site-packages\\ipykernel_launcher.py:1: UserWarning: Boolean Series key will be reindexed to match DataFrame index.\n",
      "  \"\"\"Entry point for launching an IPython kernel.\n"
     ]
    },
    {
     "data": {
      "text/html": [
       "<div>\n",
       "<style scoped>\n",
       "    .dataframe tbody tr th:only-of-type {\n",
       "        vertical-align: middle;\n",
       "    }\n",
       "\n",
       "    .dataframe tbody tr th {\n",
       "        vertical-align: top;\n",
       "    }\n",
       "\n",
       "    .dataframe thead th {\n",
       "        text-align: right;\n",
       "    }\n",
       "</style>\n",
       "<table border=\"1\" class=\"dataframe\">\n",
       "  <thead>\n",
       "    <tr style=\"text-align: right;\">\n",
       "      <th></th>\n",
       "      <th>hash_str</th>\n",
       "      <th>category</th>\n",
       "      <th>marketplace</th>\n",
       "      <th>item_hash</th>\n",
       "      <th>date</th>\n",
       "      <th>giver_hash</th>\n",
       "      <th>receiver_hash</th>\n",
       "      <th>message</th>\n",
       "      <th>order_title</th>\n",
       "      <th>feedback_value</th>\n",
       "      <th>order_amount_usd</th>\n",
       "    </tr>\n",
       "  </thead>\n",
       "  <tbody>\n",
       "  </tbody>\n",
       "</table>\n",
       "</div>"
      ],
      "text/plain": [
       "Empty DataFrame\n",
       "Columns: [hash_str, category, marketplace, item_hash, date, giver_hash, receiver_hash, message, order_title, feedback_value, order_amount_usd]\n",
       "Index: []"
      ]
     },
     "execution_count": 88,
     "metadata": {},
     "output_type": "execute_result"
    }
   ],
   "source": [
    "df[df['marketplace'] == 'Pandora'][df['category']=='hosting']"
   ]
  },
  {
   "cell_type": "code",
   "execution_count": 89,
   "metadata": {},
   "outputs": [
    {
     "data": {
      "text/plain": [
       "array(['malware', 'app', 'website', 'exploits', 'e-mail', 'phone', 'RAT',\n",
       "       'cash-out', 'other - account', 'other - custom', 'other - fake',\n",
       "       'other - guide', 'other - pirated software',\n",
       "       'other - voucher/invite/codes/lottery/gift', 'other'], dtype=object)"
      ]
     },
     "execution_count": 89,
     "metadata": {},
     "output_type": "execute_result"
    }
   ],
   "source": [
    "df[df['marketplace'] == 'Pandora'].category.unique()"
   ]
  },
  {
   "cell_type": "code",
   "execution_count": 90,
   "metadata": {},
   "outputs": [
    {
     "data": {
      "text/plain": [
       "array(['malware', 'app', 'website', 'botnet', 'e-mail', 'phone', 'RAT',\n",
       "       'cash-out', 'other - account', 'other - custom', 'other - fake',\n",
       "       'other - guide', 'other - pirated software',\n",
       "       'other - voucher/invite/codes/lottery/gift', 'other'], dtype=object)"
      ]
     },
     "execution_count": 90,
     "metadata": {},
     "output_type": "execute_result"
    }
   ],
   "source": [
    "df[df['marketplace'] == 'Hydra'].category.unique()"
   ]
  },
  {
   "cell_type": "code",
   "execution_count": 2,
   "metadata": {},
   "outputs": [],
   "source": [
    "import pandas as pd\n",
    "df = pd.read_csv(r'./items.csv')"
   ]
  },
  {
   "cell_type": "code",
   "execution_count": 3,
   "metadata": {},
   "outputs": [
    {
     "data": {
      "text/html": [
       "<div>\n",
       "<style scoped>\n",
       "    .dataframe tbody tr th:only-of-type {\n",
       "        vertical-align: middle;\n",
       "    }\n",
       "\n",
       "    .dataframe tbody tr th {\n",
       "        vertical-align: top;\n",
       "    }\n",
       "\n",
       "    .dataframe thead th {\n",
       "        text-align: right;\n",
       "    }\n",
       "</style>\n",
       "<table border=\"1\" class=\"dataframe\">\n",
       "  <thead>\n",
       "    <tr style=\"text-align: right;\">\n",
       "      <th></th>\n",
       "      <th>item_hash</th>\n",
       "      <th>category</th>\n",
       "      <th>marketplace</th>\n",
       "      <th>title</th>\n",
       "      <th>vendor_hash</th>\n",
       "      <th>total_sales</th>\n",
       "      <th>first_observed</th>\n",
       "      <th>last_observed</th>\n",
       "      <th>ships_to</th>\n",
       "      <th>ships_from</th>\n",
       "      <th>description</th>\n",
       "    </tr>\n",
       "  </thead>\n",
       "  <tbody>\n",
       "    <tr>\n",
       "      <th>0</th>\n",
       "      <td>00005f750be23a5f7addb026e1e2ff20</td>\n",
       "      <td>other - guide</td>\n",
       "      <td>Silk Road 2</td>\n",
       "      <td>3-5g-devils-cocktail</td>\n",
       "      <td>261da30fde08d717455eafdf265e00f3</td>\n",
       "      <td>584.09</td>\n",
       "      <td>2014-07-02</td>\n",
       "      <td>2014-10-29</td>\n",
       "      <td>Australia</td>\n",
       "      <td>Australia</td>\n",
       "      <td>30 day average: 4.87\\n    60 day average: 4.91...</td>\n",
       "    </tr>\n",
       "    <tr>\n",
       "      <th>1</th>\n",
       "      <td>00019696ba886889ed7612e2938f97a0</td>\n",
       "      <td>cash-out</td>\n",
       "      <td>Alphabay</td>\n",
       "      <td>RANDOM USA TRACK2 101/201 With City-zip-state</td>\n",
       "      <td>2371addc4198d8ca4e938071c8670c79</td>\n",
       "      <td>30.00</td>\n",
       "      <td>2017-05-15</td>\n",
       "      <td>2017-05-15</td>\n",
       "      <td>Worldwide</td>\n",
       "      <td>Worldwide</td>\n",
       "      <td>RANDOM USA TRACK2 101/201 With city-zip-state\\...</td>\n",
       "    </tr>\n",
       "    <tr>\n",
       "      <th>2</th>\n",
       "      <td>0005ea294a83143fe69089e90a8fe830</td>\n",
       "      <td>other</td>\n",
       "      <td>Evolution</td>\n",
       "      <td>Jason Ferruggia - The Renegade Diet (2011)</td>\n",
       "      <td>a081033ab42c85ae4101549cd64ff4cb</td>\n",
       "      <td>0.96</td>\n",
       "      <td>2015-01-14</td>\n",
       "      <td>2015-01-29</td>\n",
       "      <td>NaN</td>\n",
       "      <td>Worldwide</td>\n",
       "      <td>NaN</td>\n",
       "    </tr>\n",
       "    <tr>\n",
       "      <th>3</th>\n",
       "      <td>000720c3991dc6b45cb76d7458455721</td>\n",
       "      <td>other - guide</td>\n",
       "      <td>Evolution</td>\n",
       "      <td>(eBook)</td>\n",
       "      <td>35deec4895746c79f983d2ab81a2463a</td>\n",
       "      <td>1.63</td>\n",
       "      <td>2014-11-16</td>\n",
       "      <td>2015-01-13</td>\n",
       "      <td>NaN</td>\n",
       "      <td>Worldwide</td>\n",
       "      <td>NaN</td>\n",
       "    </tr>\n",
       "    <tr>\n",
       "      <th>4</th>\n",
       "      <td>0008018df8d0305b6888062b8423c3b4</td>\n",
       "      <td>other</td>\n",
       "      <td>Silk Road 2</td>\n",
       "      <td>rc-starter-kit-milligram-scale-and-tiny-spoons...</td>\n",
       "      <td>b3304a33c2fde583deb869a6c826ac8a</td>\n",
       "      <td>162.54</td>\n",
       "      <td>2014-02-05</td>\n",
       "      <td>2014-02-12</td>\n",
       "      <td>United States</td>\n",
       "      <td>United States</td>\n",
       "      <td>Highly accurate milligram (0.001g resolution) ...</td>\n",
       "    </tr>\n",
       "  </tbody>\n",
       "</table>\n",
       "</div>"
      ],
      "text/plain": [
       "                          item_hash       category  marketplace  \\\n",
       "0  00005f750be23a5f7addb026e1e2ff20  other - guide  Silk Road 2   \n",
       "1  00019696ba886889ed7612e2938f97a0       cash-out     Alphabay   \n",
       "2  0005ea294a83143fe69089e90a8fe830          other    Evolution   \n",
       "3  000720c3991dc6b45cb76d7458455721  other - guide    Evolution   \n",
       "4  0008018df8d0305b6888062b8423c3b4          other  Silk Road 2   \n",
       "\n",
       "                                               title  \\\n",
       "0                               3-5g-devils-cocktail   \n",
       "1      RANDOM USA TRACK2 101/201 With City-zip-state   \n",
       "2         Jason Ferruggia - The Renegade Diet (2011)   \n",
       "3                                            (eBook)   \n",
       "4  rc-starter-kit-milligram-scale-and-tiny-spoons...   \n",
       "\n",
       "                        vendor_hash  total_sales first_observed last_observed  \\\n",
       "0  261da30fde08d717455eafdf265e00f3       584.09     2014-07-02    2014-10-29   \n",
       "1  2371addc4198d8ca4e938071c8670c79        30.00     2017-05-15    2017-05-15   \n",
       "2  a081033ab42c85ae4101549cd64ff4cb         0.96     2015-01-14    2015-01-29   \n",
       "3  35deec4895746c79f983d2ab81a2463a         1.63     2014-11-16    2015-01-13   \n",
       "4  b3304a33c2fde583deb869a6c826ac8a       162.54     2014-02-05    2014-02-12   \n",
       "\n",
       "        ships_to     ships_from  \\\n",
       "0      Australia      Australia   \n",
       "1      Worldwide      Worldwide   \n",
       "2            NaN      Worldwide   \n",
       "3            NaN      Worldwide   \n",
       "4  United States  United States   \n",
       "\n",
       "                                         description  \n",
       "0  30 day average: 4.87\\n    60 day average: 4.91...  \n",
       "1  RANDOM USA TRACK2 101/201 With city-zip-state\\...  \n",
       "2                                                NaN  \n",
       "3                                                NaN  \n",
       "4  Highly accurate milligram (0.001g resolution) ...  "
      ]
     },
     "execution_count": 3,
     "metadata": {},
     "output_type": "execute_result"
    }
   ],
   "source": [
    "df.head()"
   ]
  },
  {
   "cell_type": "code",
   "execution_count": 5,
   "metadata": {},
   "outputs": [],
   "source": [
    "marketplace = df.groupby(by=['marketplace'])"
   ]
  },
  {
   "cell_type": "code",
   "execution_count": 10,
   "metadata": {},
   "outputs": [],
   "source": [
    "marketplace.sum().reset_index().to_csv('marketplace.csv', encoding='utf-16')"
   ]
  },
  {
   "cell_type": "code",
   "execution_count": 7,
   "metadata": {
    "scrolled": true
   },
   "outputs": [
    {
     "data": {
      "text/plain": [
       "pandas.core.groupby.generic.DataFrameGroupBy"
      ]
     },
     "execution_count": 7,
     "metadata": {},
     "output_type": "execute_result"
    }
   ],
   "source": []
  },
  {
   "cell_type": "code",
   "execution_count": 8,
   "metadata": {},
   "outputs": [
    {
     "ename": "AttributeError",
     "evalue": "'DataFrameGroupBy' object has no attribute '__attr__'",
     "output_type": "error",
     "traceback": [
      "\u001b[1;31m---------------------------------------------------------------------------\u001b[0m",
      "\u001b[1;31mAttributeError\u001b[0m                            Traceback (most recent call last)",
      "\u001b[1;32m<ipython-input-8-5a3688acdf73>\u001b[0m in \u001b[0;36m<module>\u001b[1;34m\u001b[0m\n\u001b[1;32m----> 1\u001b[1;33m \u001b[0mmarketplace\u001b[0m\u001b[1;33m.\u001b[0m\u001b[0m__attr__\u001b[0m\u001b[1;33m\u001b[0m\u001b[1;33m\u001b[0m\u001b[0m\n\u001b[0m",
      "\u001b[1;32m~\\anaconda3\\lib\\site-packages\\pandas\\core\\groupby\\groupby.py\u001b[0m in \u001b[0;36m__getattr__\u001b[1;34m(self, attr)\u001b[0m\n\u001b[0;32m    578\u001b[0m             \u001b[1;32mreturn\u001b[0m \u001b[0mself\u001b[0m\u001b[1;33m[\u001b[0m\u001b[0mattr\u001b[0m\u001b[1;33m]\u001b[0m\u001b[1;33m\u001b[0m\u001b[1;33m\u001b[0m\u001b[0m\n\u001b[0;32m    579\u001b[0m \u001b[1;33m\u001b[0m\u001b[0m\n\u001b[1;32m--> 580\u001b[1;33m         raise AttributeError(\n\u001b[0m\u001b[0;32m    581\u001b[0m             \u001b[1;34mf\"'{type(self).__name__}' object has no attribute '{attr}'\"\u001b[0m\u001b[1;33m\u001b[0m\u001b[1;33m\u001b[0m\u001b[0m\n\u001b[0;32m    582\u001b[0m         )\n",
      "\u001b[1;31mAttributeError\u001b[0m: 'DataFrameGroupBy' object has no attribute '__attr__'"
     ]
    }
   ],
   "source": []
  },
  {
   "cell_type": "code",
   "execution_count": null,
   "metadata": {},
   "outputs": [],
   "source": []
  }
 ],
 "metadata": {
  "kernelspec": {
   "display_name": "Python 3",
   "language": "python",
   "name": "python3"
  },
  "language_info": {
   "codemirror_mode": {
    "name": "ipython",
    "version": 3
   },
   "file_extension": ".py",
   "mimetype": "text/x-python",
   "name": "python",
   "nbconvert_exporter": "python",
   "pygments_lexer": "ipython3",
   "version": "3.7.6"
  }
 },
 "nbformat": 4,
 "nbformat_minor": 4
}
