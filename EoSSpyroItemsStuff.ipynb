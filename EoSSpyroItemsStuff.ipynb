{
 "cells": [
  {
   "cell_type": "code",
   "execution_count": 8,
   "metadata": {
    "scrolled": true
   },
   "outputs": [
    {
     "name": "stdout",
     "output_type": "stream",
     "text": [
      "key: 2011\n",
      "money sum: 7392.72\n",
      "cashouts/totalMoney: 0.90\n",
      "key: 2012\n",
      "money sum: 29178.96\n",
      "cashouts/totalMoney: 0.62\n",
      "key: 2013\n",
      "money sum: 93329.11\n",
      "cashouts/totalMoney: 0.22\n",
      "key: 2014\n",
      "money sum: 4205414.47\n",
      "cashouts/totalMoney: 0.39\n",
      "key: 2015\n",
      "money sum: 3040382.63\n",
      "cashouts/totalMoney: 0.24\n",
      "key: 2016\n",
      "money sum: 3534685.31\n",
      "cashouts/totalMoney: 0.33\n",
      "key: 2017\n",
      "money sum: 1439220.40\n",
      "cashouts/totalMoney: 0.54\n"
     ]
    },
    {
     "ename": "NameError",
     "evalue": "name 'avgOrdersCategories' is not defined",
     "output_type": "error",
     "traceback": [
      "\u001b[1;31m---------------------------------------------------------------------------\u001b[0m",
      "\u001b[1;31mNameError\u001b[0m                                 Traceback (most recent call last)",
      "\u001b[1;32m<ipython-input-8-dea6f0e69904>\u001b[0m in \u001b[0;36m<module>\u001b[1;34m\u001b[0m\n\u001b[0;32m     67\u001b[0m \u001b[1;32mfor\u001b[0m \u001b[0mkey\u001b[0m \u001b[1;32min\u001b[0m \u001b[0mdata\u001b[0m\u001b[1;33m.\u001b[0m\u001b[0mkeys\u001b[0m\u001b[1;33m(\u001b[0m\u001b[1;33m)\u001b[0m\u001b[1;33m:\u001b[0m\u001b[1;33m\u001b[0m\u001b[1;33m\u001b[0m\u001b[0m\n\u001b[0;32m     68\u001b[0m     \u001b[1;32mif\u001b[0m \u001b[0mkey\u001b[0m \u001b[1;33m==\u001b[0m \u001b[1;36m2011\u001b[0m\u001b[1;33m:\u001b[0m\u001b[1;33m\u001b[0m\u001b[1;33m\u001b[0m\u001b[0m\n\u001b[1;32m---> 69\u001b[1;33m         \u001b[0mavgOrdersCategories\u001b[0m\u001b[1;33m[\u001b[0m\u001b[0mkey\u001b[0m\u001b[1;33m]\u001b[0m \u001b[1;33m=\u001b[0m \u001b[0mfeedbacks\u001b[0m\u001b[1;33m[\u001b[0m\u001b[1;33m:\u001b[0m\u001b[0mdata\u001b[0m\u001b[1;33m[\u001b[0m\u001b[0mkey\u001b[0m\u001b[1;33m]\u001b[0m\u001b[1;33m]\u001b[0m\u001b[1;33m.\u001b[0m\u001b[0mgroupby\u001b[0m\u001b[1;33m(\u001b[0m\u001b[0mby\u001b[0m\u001b[1;33m=\u001b[0m\u001b[1;34m'category'\u001b[0m\u001b[1;33m)\u001b[0m\u001b[1;33m.\u001b[0m\u001b[0msum\u001b[0m\u001b[1;33m(\u001b[0m\u001b[1;33m)\u001b[0m\u001b[1;33m\u001b[0m\u001b[1;33m\u001b[0m\u001b[0m\n\u001b[0m\u001b[0;32m     70\u001b[0m     \u001b[1;32melse\u001b[0m\u001b[1;33m:\u001b[0m\u001b[1;33m\u001b[0m\u001b[1;33m\u001b[0m\u001b[0m\n\u001b[0;32m     71\u001b[0m         \u001b[0mavgOrdersCategories\u001b[0m\u001b[1;33m[\u001b[0m\u001b[0mkey\u001b[0m\u001b[1;33m]\u001b[0m \u001b[1;33m=\u001b[0m \u001b[0mfeedbacks\u001b[0m\u001b[1;33m[\u001b[0m\u001b[0mdata\u001b[0m\u001b[1;33m[\u001b[0m\u001b[0mkey\u001b[0m\u001b[1;33m-\u001b[0m\u001b[1;36m1\u001b[0m\u001b[1;33m]\u001b[0m\u001b[1;33m:\u001b[0m\u001b[0mdata\u001b[0m\u001b[1;33m[\u001b[0m\u001b[0mkey\u001b[0m\u001b[1;33m]\u001b[0m\u001b[1;33m]\u001b[0m\u001b[1;33m.\u001b[0m\u001b[0mgroupby\u001b[0m\u001b[1;33m(\u001b[0m\u001b[0mby\u001b[0m\u001b[1;33m=\u001b[0m\u001b[1;34m'category'\u001b[0m\u001b[1;33m)\u001b[0m\u001b[1;33m.\u001b[0m\u001b[0msum\u001b[0m\u001b[1;33m(\u001b[0m\u001b[1;33m)\u001b[0m\u001b[1;33m\u001b[0m\u001b[1;33m\u001b[0m\u001b[0m\n",
      "\u001b[1;31mNameError\u001b[0m: name 'avgOrdersCategories' is not defined"
     ]
    }
   ],
   "source": [
    "import pandas as pd\n",
    "import numpy as np\n",
    "import datetime\n",
    "\n",
    "#items = pd.read_csv(r'./items.csv')\n",
    "feedbacks = pd.read_csv(r'./feedbacks.csv')\n",
    "\n",
    "feedbacks = feedbacks.sort_values(by='date').reset_index()\n",
    "del feedbacks['index']\n",
    "\n",
    "feedbacks['date']=feedbacks['date'].apply(lambda x: int(x[:4]))\n",
    "feedbacks=feedbacks[feedbacks['category'] != 'other']\n",
    "\n",
    "cashOuts = feedbacks[feedbacks['category'] == 'cash-out']\n",
    "data={}\n",
    "\n",
    "for i in range(2011, 2018):\n",
    "    data[i] = cashOuts.date.values.searchsorted(i+1)\n",
    "    \n",
    "years = dict.fromkeys(data.keys())\n",
    "valueSumsPerYear = dict.fromkeys(data.keys()) \n",
    "cashOutsPerYear = dict.fromkeys(data.keys()) \n",
    "\n",
    "#all cats per year - other category\n",
    "for key in years.keys():\n",
    "    if key == 2011:\n",
    "        years[key] = feedbacks[:data[key]]\n",
    "        cashOutsPerYear[key] = feedbacks[:data[key]].loc[feedbacks['category'] == 'cash-out']['order_amount_usd'].sum()\n",
    "    else:\n",
    "        years[key] = feedbacks[data[key-1]:data[key]]\n",
    "        cashOutsPerYear[key] = feedbacks[data[key-1]:data[key]].loc[feedbacks['category'] == 'cash-out']['order_amount_usd'].sum()\n",
    "    valueSumsPerYear[key] = years[key]['order_amount_usd'].sum()\n",
    "    print(\"key: \"+ str(key))\n",
    "    print(\"money sum: {:.2f}\".format(valueSumsPerYear[key]))\n",
    "    print(\"cashouts/totalMoney: {:.2f}\".format(cashOutsPerYear[key]/valueSumsPerYear[key]))"
   ]
  },
  {
   "cell_type": "code",
   "execution_count": null,
   "metadata": {},
   "outputs": [],
   "source": []
  },
  {
   "cell_type": "code",
   "execution_count": null,
   "metadata": {},
   "outputs": [],
   "source": []
  }
 ],
 "metadata": {
  "kernelspec": {
   "display_name": "Python 3",
   "language": "python",
   "name": "python3"
  },
  "language_info": {
   "codemirror_mode": {
    "name": "ipython",
    "version": 3
   },
   "file_extension": ".py",
   "mimetype": "text/x-python",
   "name": "python",
   "nbconvert_exporter": "python",
   "pygments_lexer": "ipython3",
   "version": "3.8.3"
  }
 },
 "nbformat": 4,
 "nbformat_minor": 4
}
